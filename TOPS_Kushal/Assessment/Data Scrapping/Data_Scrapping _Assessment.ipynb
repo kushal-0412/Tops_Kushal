{
 "cells": [
  {
   "cell_type": "markdown",
   "metadata": {
    "id": "shQDf3-2LzSc"
   },
   "source": [
    "# TMDB\n"
   ]
  },
  {
   "cell_type": "markdown",
   "metadata": {
    "id": "0BfvSKfZG4Rm"
   },
   "source": [
    "#### Scarping"
   ]
  },
  {
   "cell_type": "code",
   "execution_count": 1,
   "metadata": {
    "executionInfo": {
     "elapsed": 49,
     "status": "ok",
     "timestamp": 1746074835270,
     "user": {
      "displayName": "Kushal Soni",
      "userId": "05138966085461883049"
     },
     "user_tz": -330
    },
    "id": "uDv9VtJCMcmG"
   },
   "outputs": [],
   "source": [
    "from bs4 import BeautifulSoup as bs4\n",
    "import requests\n",
    "import pandas as pd"
   ]
  },
  {
   "cell_type": "code",
   "execution_count": 2,
   "metadata": {
    "executionInfo": {
     "elapsed": 4,
     "status": "ok",
     "timestamp": 1746072298736,
     "user": {
      "displayName": "Kushal Soni",
      "userId": "05138966085461883049"
     },
     "user_tz": -330
    },
    "id": "GCHeNs6Khk3f"
   },
   "outputs": [],
   "source": [
    "header = {\n",
    "    \"User-Agent\":\"Mozilla/5.0 (Windows NT 10.0; Win64; x64) AppleWebKit/537.36 (KHTML, like Gecko) Chrome/135.0.0.0 Safari/537.36 Edg/135.0.0.0\"}"
   ]
  },
  {
   "cell_type": "code",
   "execution_count": 2,
   "metadata": {
    "executionInfo": {
     "elapsed": 11,
     "status": "ok",
     "timestamp": 1746074836943,
     "user": {
      "displayName": "Kushal Soni",
      "userId": "05138966085461883049"
     },
     "user_tz": -330
    },
    "id": "KeRu4p_aQTiP"
   },
   "outputs": [],
   "source": [
    "lst =[]"
   ]
  },
  {
   "cell_type": "code",
   "execution_count": 3,
   "metadata": {
    "executionInfo": {
     "elapsed": 441,
     "status": "ok",
     "timestamp": 1746074838811,
     "user": {
      "displayName": "Kushal Soni",
      "userId": "05138966085461883049"
     },
     "user_tz": -330
    },
    "id": "nRdMhiYmOoMP"
   },
   "outputs": [],
   "source": [
    "for i in range(1,10):\n",
    "  res = requests.get(f\"https://api.themoviedb.org/3/movie/popular?language=en-US&page={i}&region=AE&api_key=cac84b150991e136c7ebee84437567c5\")\n",
    "  #d = data.json()[\"results\"]\n",
    "  if res.status_code == 200:\n",
    "    data = res.json()[\"results\"]\n",
    "    lst.extend(data)\n",
    "  else:\n",
    "    print(\"Invalid\")"
   ]
  },
  {
   "cell_type": "code",
   "execution_count": 4,
   "metadata": {
    "id": "hMmVMvYAPKgv"
   },
   "outputs": [
    {
     "data": {
      "text/html": [
       "<div>\n",
       "<style scoped>\n",
       "    .dataframe tbody tr th:only-of-type {\n",
       "        vertical-align: middle;\n",
       "    }\n",
       "\n",
       "    .dataframe tbody tr th {\n",
       "        vertical-align: top;\n",
       "    }\n",
       "\n",
       "    .dataframe thead th {\n",
       "        text-align: right;\n",
       "    }\n",
       "</style>\n",
       "<table border=\"1\" class=\"dataframe\">\n",
       "  <thead>\n",
       "    <tr style=\"text-align: right;\">\n",
       "      <th></th>\n",
       "      <th>adult</th>\n",
       "      <th>backdrop_path</th>\n",
       "      <th>genre_ids</th>\n",
       "      <th>id</th>\n",
       "      <th>original_language</th>\n",
       "      <th>original_title</th>\n",
       "      <th>overview</th>\n",
       "      <th>popularity</th>\n",
       "      <th>poster_path</th>\n",
       "      <th>release_date</th>\n",
       "      <th>title</th>\n",
       "      <th>video</th>\n",
       "      <th>vote_average</th>\n",
       "      <th>vote_count</th>\n",
       "    </tr>\n",
       "  </thead>\n",
       "  <tbody>\n",
       "    <tr>\n",
       "      <th>0</th>\n",
       "      <td>False</td>\n",
       "      <td>/44YfHklKam8COMUxDZop2Lnp0CS.jpg</td>\n",
       "      <td>[28, 80, 53]</td>\n",
       "      <td>668489</td>\n",
       "      <td>en</td>\n",
       "      <td>Havoc</td>\n",
       "      <td>When a drug heist swerves lethally out of cont...</td>\n",
       "      <td>584.7785</td>\n",
       "      <td>/r46leE6PSzLR3pnVzaxx5Q30yUF.jpg</td>\n",
       "      <td>2025-04-25</td>\n",
       "      <td>Havoc</td>\n",
       "      <td>False</td>\n",
       "      <td>6.600</td>\n",
       "      <td>330</td>\n",
       "    </tr>\n",
       "    <tr>\n",
       "      <th>1</th>\n",
       "      <td>False</td>\n",
       "      <td>/fTrQsdMS2MUw00RnzH0r3JWHhts.jpg</td>\n",
       "      <td>[28, 80, 53]</td>\n",
       "      <td>1197306</td>\n",
       "      <td>en</td>\n",
       "      <td>A Working Man</td>\n",
       "      <td>Levon Cade left behind a decorated military ca...</td>\n",
       "      <td>581.2791</td>\n",
       "      <td>/xUkUZ8eOnrOnnJAfusZUqKYZiDu.jpg</td>\n",
       "      <td>2025-03-27</td>\n",
       "      <td>A Working Man</td>\n",
       "      <td>False</td>\n",
       "      <td>6.442</td>\n",
       "      <td>498</td>\n",
       "    </tr>\n",
       "    <tr>\n",
       "      <th>2</th>\n",
       "      <td>False</td>\n",
       "      <td>/2Nti3gYAX513wvhp8IiLL6ZDyOm.jpg</td>\n",
       "      <td>[10751, 35, 12, 14]</td>\n",
       "      <td>950387</td>\n",
       "      <td>en</td>\n",
       "      <td>A Minecraft Movie</td>\n",
       "      <td>Four misfits find themselves struggling with o...</td>\n",
       "      <td>408.6823</td>\n",
       "      <td>/iPPTGh2OXuIv6d7cwuoPkw8govp.jpg</td>\n",
       "      <td>2025-04-03</td>\n",
       "      <td>A Minecraft Movie</td>\n",
       "      <td>False</td>\n",
       "      <td>6.200</td>\n",
       "      <td>765</td>\n",
       "    </tr>\n",
       "  </tbody>\n",
       "</table>\n",
       "</div>"
      ],
      "text/plain": [
       "   adult                     backdrop_path            genre_ids       id  \\\n",
       "0  False  /44YfHklKam8COMUxDZop2Lnp0CS.jpg         [28, 80, 53]   668489   \n",
       "1  False  /fTrQsdMS2MUw00RnzH0r3JWHhts.jpg         [28, 80, 53]  1197306   \n",
       "2  False  /2Nti3gYAX513wvhp8IiLL6ZDyOm.jpg  [10751, 35, 12, 14]   950387   \n",
       "\n",
       "  original_language     original_title  \\\n",
       "0                en              Havoc   \n",
       "1                en      A Working Man   \n",
       "2                en  A Minecraft Movie   \n",
       "\n",
       "                                            overview  popularity  \\\n",
       "0  When a drug heist swerves lethally out of cont...    584.7785   \n",
       "1  Levon Cade left behind a decorated military ca...    581.2791   \n",
       "2  Four misfits find themselves struggling with o...    408.6823   \n",
       "\n",
       "                        poster_path release_date              title  video  \\\n",
       "0  /r46leE6PSzLR3pnVzaxx5Q30yUF.jpg   2025-04-25              Havoc  False   \n",
       "1  /xUkUZ8eOnrOnnJAfusZUqKYZiDu.jpg   2025-03-27      A Working Man  False   \n",
       "2  /iPPTGh2OXuIv6d7cwuoPkw8govp.jpg   2025-04-03  A Minecraft Movie  False   \n",
       "\n",
       "   vote_average  vote_count  \n",
       "0         6.600         330  \n",
       "1         6.442         498  \n",
       "2         6.200         765  "
      ]
     },
     "execution_count": 4,
     "metadata": {},
     "output_type": "execute_result"
    }
   ],
   "source": [
    "dff = pd.DataFrame(lst)\n",
    "dff.head(3)"
   ]
  },
  {
   "cell_type": "code",
   "execution_count": 8,
   "metadata": {
    "executionInfo": {
     "elapsed": 15,
     "status": "ok",
     "timestamp": 1746072315456,
     "user": {
      "displayName": "Kushal Soni",
      "userId": "05138966085461883049"
     },
     "user_tz": -330
    },
    "id": "Ypp-GwXa8-0a"
   },
   "outputs": [],
   "source": [
    "#Saving The CSV File\n",
    "dff.to_csv(\"tmdb.csv\")"
   ]
  },
  {
   "cell_type": "markdown",
   "metadata": {
    "id": "a9boj_3CHDn3"
   },
   "source": [
    "#### Data Cleaning"
   ]
  },
  {
   "cell_type": "code",
   "execution_count": 5,
   "metadata": {
    "colab": {
     "base_uri": "https://localhost:8080/"
    },
    "executionInfo": {
     "elapsed": 35,
     "status": "ok",
     "timestamp": 1746072319850,
     "user": {
      "displayName": "Kushal Soni",
      "userId": "05138966085461883049"
     },
     "user_tz": -330
    },
    "id": "7jseRBhmQOXp",
    "outputId": "fe14fc68-41a7-4781-ee2f-416fe8d05e50"
   },
   "outputs": [
    {
     "data": {
      "text/plain": [
       "Index(['adult', 'backdrop_path', 'genre_ids', 'id', 'original_language',\n",
       "       'original_title', 'overview', 'popularity', 'poster_path',\n",
       "       'release_date', 'title', 'video', 'vote_average', 'vote_count'],\n",
       "      dtype='object')"
      ]
     },
     "execution_count": 5,
     "metadata": {},
     "output_type": "execute_result"
    }
   ],
   "source": [
    "dff.columns"
   ]
  },
  {
   "cell_type": "code",
   "execution_count": null,
   "metadata": {
    "id": "pXfE9TODUr2H"
   },
   "outputs": [],
   "source": []
  },
  {
   "cell_type": "code",
   "execution_count": 6,
   "metadata": {
    "id": "-yro6yADR4N_"
   },
   "outputs": [
    {
     "name": "stdout",
     "output_type": "stream",
     "text": [
      "column name:- adult\n",
      "False    180\n",
      "Name: adult, dtype: int64\n",
      "\n",
      "\n",
      "column name:- backdrop_path\n",
      "/sNx1A3822kEbqeUxvo5A08o4N7o.jpg    2\n",
      "/44YfHklKam8COMUxDZop2Lnp0CS.jpg    1\n",
      "/p5ozvmdgsmbWe0H8Xk7Rc8SCwAB.jpg    1\n",
      "/sCzcYW9h55WcesOqA12cgEr9Exw.jpg    1\n",
      "/stTmJizMu8LklEIIkSu7NqHchdH.jpg    1\n",
      "                                   ..\n",
      "/5AhkjcqqRxBdpYZ0TeOuTCuOUYq.jpg    1\n",
      "/qpPFF8Sed5lkXngWraJdN8WkwDG.jpg    1\n",
      "/l2iY1AgqQ8dEa3FtWkN5TQ5aVbU.jpg    1\n",
      "/oz4U9eA6ilYf1tyiVuGmkftdLac.jpg    1\n",
      "/hqNspYtGVGuLDO15JORh44H7VOV.jpg    1\n",
      "Name: backdrop_path, Length: 178, dtype: int64\n",
      "\n",
      "\n",
      "column name:- genre_ids\n",
      "[28, 12, 878]         7\n",
      "[28, 53]              5\n",
      "[27, 878]             5\n",
      "[27, 53]              5\n",
      "[10749, 18]           5\n",
      "                     ..\n",
      "[53, 35]              1\n",
      "[10751, 14, 10749]    1\n",
      "[27, 35, 878]         1\n",
      "[18, 53, 9648]        1\n",
      "[18, 53, 80]          1\n",
      "Name: genre_ids, Length: 122, dtype: int64\n",
      "\n",
      "\n",
      "column name:- id\n",
      "1195506    2\n",
      "668489     1\n",
      "1022789    1\n",
      "597        1\n",
      "19053      1\n",
      "          ..\n",
      "429200     1\n",
      "2108       1\n",
      "1092       1\n",
      "1010581    1\n",
      "1079311    1\n",
      "Name: id, Length: 179, dtype: int64\n",
      "\n",
      "\n",
      "column name:- original_language\n",
      "en    144\n",
      "es      9\n",
      "ja      7\n",
      "fr      4\n",
      "hi      3\n",
      "da      2\n",
      "zh      2\n",
      "te      1\n",
      "de      1\n",
      "nl      1\n",
      "lv      1\n",
      "ru      1\n",
      "ta      1\n",
      "ml      1\n",
      "pl      1\n",
      "ko      1\n",
      "Name: original_language, dtype: int64\n",
      "\n",
      "\n",
      "column name:- original_title\n",
      "Novocaine             2\n",
      "Havoc                 1\n",
      "Inside Out 2          1\n",
      "Titanic               1\n",
      "Valley Girl           1\n",
      "                     ..\n",
      "Good Time             1\n",
      "The Breakfast Club    1\n",
      "The Third Man         1\n",
      "Culpa mía             1\n",
      "Le Royaume            1\n",
      "Name: original_title, Length: 179, dtype: int64\n",
      "\n",
      "\n",
      "column name:- overview\n",
      "When the girl of his dreams is kidnapped, everyman Nate turns his inability to feel pain into an unexpected strength in his fight to get her back.                                                                                                                                                                                                                                                               2\n",
      "When a drug heist swerves lethally out of control, a jaded cop fights his way through a corrupt city's criminal underworld to save a politician's son.                                                                                                                                                                                                                                                           1\n",
      "Teenager Riley's mind headquarters is undergoing a sudden demolition to make room for something entirely unexpected: new Emotions! Joy, Sadness, Anger, Fear and Disgust, who’ve long been running a successful operation by all accounts, aren’t sure how to feel when Anxiety shows up. And it looks like she’s not alone.                                                                                     1\n",
      "101-year-old Rose DeWitt Bukater tells the story of her life aboard the Titanic, 84 years later. A young Rose boards the ship with her mother and fiancé. Meanwhile, Jack Dawson and Fabrizio De Rossi win third-class tickets aboard the ship. Rose tells the whole story from Titanic's departure through to its death—on its first and last voyage—on April 15, 1912.                                         1\n",
      "Julie, a girl from the valley, meets Randy, a punk from the city. They are from different worlds and find love. Somehow they need to stay together in spite of her trendy, shallow friends.                                                                                                                                                                                                                      1\n",
      "                                                                                                                                                                                                                                                                                                                                                                                                                ..\n",
      "After a botched bank robbery lands his younger brother in prison, Connie Nikas embarks on a twisted odyssey through New York City's underworld to get his brother Nick out of jail.                                                                                                                                                                                                                              1\n",
      "Five high school students from different walks of life endure a Saturday detention under a power-hungry principal. The disparate group includes rebel John, princess Claire, outcast Allison, brainy Brian and Andrew, the jock. Each has a chance to tell his or her story, making the others see them a little differently -- and when the day ends, they question whether school will ever be the same.       1\n",
      "In postwar Vienna, Austria, Holly Martins, a writer of pulp Westerns, arrives penniless as a guest of his childhood chum Harry Lime, only to learn he has died. Martins develops a conspiracy theory after learning of a \"third man\" present at the time of Harry's death, running into interference from British officer Major Calloway, and falling head-over-heels for Harry's grief-stricken lover, Anna.    1\n",
      "Noah must leave her city, boyfriend, and friends to move into William Leister's mansion, the flashy and wealthy husband of her mother Rafaela. As a proud and independent 17 year old, Noah resists living in a mansion surrounded by luxury. However, it is there where she meets Nick, her new stepbrother, and the clash of their strong personalities becomes evident from the very beginning.               1\n",
      "Teenage Lesia is taken by a man to a villa where her fugitive father and his men are hiding. A war erupts, leading to death and a chase where father and daughter bond.                                                                                                                                                                                                                                          1\n",
      "Name: overview, Length: 179, dtype: int64\n",
      "\n",
      "\n",
      "column name:- popularity\n",
      "584.7785    1\n",
      "52.6288     1\n",
      "45.8365     1\n",
      "40.7072     1\n",
      "38.8303     1\n",
      "           ..\n",
      "69.6583     1\n",
      "83.7182     1\n",
      "81.0002     1\n",
      "84.3031     1\n",
      "27.1548     1\n",
      "Name: popularity, Length: 180, dtype: int64\n",
      "\n",
      "\n",
      "column name:- poster_path\n",
      "/xmMHGz9dVRaMY6rRAlEX4W0Wdhm.jpg    2\n",
      "/r46leE6PSzLR3pnVzaxx5Q30yUF.jpg    1\n",
      "/vpnVM9B6NMmQpWeZvzLvDESb2QY.jpg    1\n",
      "/9xjZS2rlVxm8SFx8kPC3aIGCOYQ.jpg    1\n",
      "/mQSrU9jerYSIOWeLBqFA1gcUU59.jpg    1\n",
      "                                   ..\n",
      "/yE1c9hj5Hf8a9KplAdRdhADqUro.jpg    1\n",
      "/wM9ErA8UVdcce5P4oefQinN8VVV.jpg    1\n",
      "/rO2Fq0AZZx9obs52KJdx4mRE8p5.jpg    1\n",
      "/w46Vw536HwNnEzOa7J24YH9DPRS.jpg    1\n",
      "/6sR2P5P5SE8wZwMsfsLCO7J7Drp.jpg    1\n",
      "Name: poster_path, Length: 179, dtype: int64\n",
      "\n",
      "\n",
      "column name:- release_date\n",
      "2024-10-31    5\n",
      "2025-03-27    4\n",
      "2025-03-20    4\n",
      "2025-04-23    3\n",
      "2024-07-25    3\n",
      "             ..\n",
      "2010-10-28    1\n",
      "1977-05-25    1\n",
      "2023-06-08    1\n",
      "1949-08-31    1\n",
      "2002-05-01    1\n",
      "Name: release_date, Length: 150, dtype: int64\n",
      "\n",
      "\n",
      "column name:- title\n",
      "Novocaine             2\n",
      "Havoc                 1\n",
      "Inside Out 2          1\n",
      "Titanic               1\n",
      "Valley Girl           1\n",
      "                     ..\n",
      "Good Time             1\n",
      "The Breakfast Club    1\n",
      "The Third Man         1\n",
      "My Fault              1\n",
      "The Kingdom           1\n",
      "Name: title, Length: 179, dtype: int64\n",
      "\n",
      "\n",
      "column name:- video\n",
      "False    180\n",
      "Name: video, dtype: int64\n",
      "\n",
      "\n",
      "column name:- vote_average\n",
      "0.000    4\n",
      "6.200    3\n",
      "6.600    2\n",
      "7.300    2\n",
      "7.400    2\n",
      "        ..\n",
      "7.200    1\n",
      "7.735    1\n",
      "7.916    1\n",
      "7.817    1\n",
      "7.125    1\n",
      "Name: vote_average, Length: 160, dtype: int64\n",
      "\n",
      "\n",
      "column name:- vote_count\n",
      "0        4\n",
      "44       3\n",
      "62       2\n",
      "3        2\n",
      "4        2\n",
      "        ..\n",
      "2884     1\n",
      "8134     1\n",
      "1937     1\n",
      "3665     1\n",
      "19563    1\n",
      "Name: vote_count, Length: 167, dtype: int64\n",
      "\n",
      "\n"
     ]
    }
   ],
   "source": [
    "for i in dff.columns:\n",
    "  print(\"column name:-\",i)\n",
    "  print(dff[i].value_counts())\n",
    "  print(\"\\n\")"
   ]
  },
  {
   "cell_type": "code",
   "execution_count": 7,
   "metadata": {
    "executionInfo": {
     "elapsed": 6,
     "status": "ok",
     "timestamp": 1746072353230,
     "user": {
      "displayName": "Kushal Soni",
      "userId": "05138966085461883049"
     },
     "user_tz": -330
    },
    "id": "y9jpIgzHwG97"
   },
   "outputs": [],
   "source": [
    "#Remove The column\n",
    "dff = dff.drop(columns=[\"backdrop_path\",\"poster_path\"])"
   ]
  },
  {
   "cell_type": "markdown",
   "metadata": {
    "id": "5Dy-hlDSwzDd"
   },
   "source": [
    "###### Check The O_title and title"
   ]
  },
  {
   "cell_type": "code",
   "execution_count": 8,
   "metadata": {
    "id": "GWbofbM0tt30"
   },
   "outputs": [
    {
     "data": {
      "text/html": [
       "<div>\n",
       "<style scoped>\n",
       "    .dataframe tbody tr th:only-of-type {\n",
       "        vertical-align: middle;\n",
       "    }\n",
       "\n",
       "    .dataframe tbody tr th {\n",
       "        vertical-align: top;\n",
       "    }\n",
       "\n",
       "    .dataframe thead th {\n",
       "        text-align: right;\n",
       "    }\n",
       "</style>\n",
       "<table border=\"1\" class=\"dataframe\">\n",
       "  <thead>\n",
       "    <tr style=\"text-align: right;\">\n",
       "      <th></th>\n",
       "      <th>adult</th>\n",
       "      <th>genre_ids</th>\n",
       "      <th>id</th>\n",
       "      <th>original_language</th>\n",
       "      <th>original_title</th>\n",
       "      <th>overview</th>\n",
       "      <th>popularity</th>\n",
       "      <th>release_date</th>\n",
       "      <th>title</th>\n",
       "      <th>video</th>\n",
       "      <th>vote_average</th>\n",
       "      <th>vote_count</th>\n",
       "    </tr>\n",
       "  </thead>\n",
       "  <tbody>\n",
       "    <tr>\n",
       "      <th>4</th>\n",
       "      <td>False</td>\n",
       "      <td>[28, 53, 80, 18]</td>\n",
       "      <td>1276073</td>\n",
       "      <td>ja</td>\n",
       "      <td>新幹線大爆破</td>\n",
       "      <td>When panic erupts on a Tokyo-bound bullet trai...</td>\n",
       "      <td>326.4027</td>\n",
       "      <td>2025-04-23</td>\n",
       "      <td>Bullet Train Explosion</td>\n",
       "      <td>False</td>\n",
       "      <td>6.733</td>\n",
       "      <td>101</td>\n",
       "    </tr>\n",
       "    <tr>\n",
       "      <th>6</th>\n",
       "      <td>False</td>\n",
       "      <td>[28, 53]</td>\n",
       "      <td>1225915</td>\n",
       "      <td>hi</td>\n",
       "      <td>ज्वेल थीफ: द हीस्ट बिगिन्स</td>\n",
       "      <td>In this high-octane battle of wits and wills, ...</td>\n",
       "      <td>271.0703</td>\n",
       "      <td>2025-04-25</td>\n",
       "      <td>Jewel Thief: The Heist Begins</td>\n",
       "      <td>False</td>\n",
       "      <td>6.765</td>\n",
       "      <td>17</td>\n",
       "    </tr>\n",
       "    <tr>\n",
       "      <th>30</th>\n",
       "      <td>False</td>\n",
       "      <td>[35, 10749]</td>\n",
       "      <td>1403735</td>\n",
       "      <td>te</td>\n",
       "      <td>లైలా</td>\n",
       "      <td>Sonu Model, a renowned beautician from the old...</td>\n",
       "      <td>109.2595</td>\n",
       "      <td>2025-02-14</td>\n",
       "      <td>Laila</td>\n",
       "      <td>False</td>\n",
       "      <td>5.000</td>\n",
       "      <td>3</td>\n",
       "    </tr>\n",
       "    <tr>\n",
       "      <th>48</th>\n",
       "      <td>False</td>\n",
       "      <td>[10749, 18]</td>\n",
       "      <td>1252309</td>\n",
       "      <td>es</td>\n",
       "      <td>Pídeme lo que quieras</td>\n",
       "      <td>After his father's death, Eric Zimmerman trave...</td>\n",
       "      <td>73.9414</td>\n",
       "      <td>2024-11-29</td>\n",
       "      <td>Ask Me What You Want</td>\n",
       "      <td>False</td>\n",
       "      <td>5.931</td>\n",
       "      <td>152</td>\n",
       "    </tr>\n",
       "    <tr>\n",
       "      <th>53</th>\n",
       "      <td>False</td>\n",
       "      <td>[27]</td>\n",
       "      <td>1321952</td>\n",
       "      <td>es</td>\n",
       "      <td>Tu Sangre</td>\n",
       "      <td>My mother vanished inside the boarding school ...</td>\n",
       "      <td>71.6696</td>\n",
       "      <td>2024-10-31</td>\n",
       "      <td>Sofia, the Possession</td>\n",
       "      <td>False</td>\n",
       "      <td>7.429</td>\n",
       "      <td>7</td>\n",
       "    </tr>\n",
       "    <tr>\n",
       "      <th>66</th>\n",
       "      <td>False</td>\n",
       "      <td>[10749, 18]</td>\n",
       "      <td>1010581</td>\n",
       "      <td>es</td>\n",
       "      <td>Culpa mía</td>\n",
       "      <td>Noah must leave her city, boyfriend, and frien...</td>\n",
       "      <td>64.5658</td>\n",
       "      <td>2023-06-08</td>\n",
       "      <td>My Fault</td>\n",
       "      <td>False</td>\n",
       "      <td>7.817</td>\n",
       "      <td>3665</td>\n",
       "    </tr>\n",
       "    <tr>\n",
       "      <th>68</th>\n",
       "      <td>False</td>\n",
       "      <td>[28, 12, 53]</td>\n",
       "      <td>1356039</td>\n",
       "      <td>es</td>\n",
       "      <td>Contraataque</td>\n",
       "      <td>When a hostage rescue mission creates a new en...</td>\n",
       "      <td>63.2033</td>\n",
       "      <td>2025-02-28</td>\n",
       "      <td>Counterattack</td>\n",
       "      <td>False</td>\n",
       "      <td>8.361</td>\n",
       "      <td>660</td>\n",
       "    </tr>\n",
       "    <tr>\n",
       "      <th>87</th>\n",
       "      <td>False</td>\n",
       "      <td>[16, 28]</td>\n",
       "      <td>1297763</td>\n",
       "      <td>ja</td>\n",
       "      <td>ニンジャバットマン対ヤクザリーグ</td>\n",
       "      <td>The Batman family has returned to the present ...</td>\n",
       "      <td>56.1820</td>\n",
       "      <td>2025-03-17</td>\n",
       "      <td>Batman Ninja vs. Yakuza League</td>\n",
       "      <td>False</td>\n",
       "      <td>6.642</td>\n",
       "      <td>151</td>\n",
       "    </tr>\n",
       "    <tr>\n",
       "      <th>91</th>\n",
       "      <td>False</td>\n",
       "      <td>[28, 53, 9648, 80]</td>\n",
       "      <td>1195430</td>\n",
       "      <td>hi</td>\n",
       "      <td>देवा</td>\n",
       "      <td>Dev Ambre, a ruthless cop, loses his memory in...</td>\n",
       "      <td>52.7414</td>\n",
       "      <td>2025-01-31</td>\n",
       "      <td>Deva</td>\n",
       "      <td>False</td>\n",
       "      <td>6.111</td>\n",
       "      <td>45</td>\n",
       "    </tr>\n",
       "    <tr>\n",
       "      <th>99</th>\n",
       "      <td>False</td>\n",
       "      <td>[16, 18, 10752]</td>\n",
       "      <td>1452267</td>\n",
       "      <td>ja</td>\n",
       "      <td>cocoon～ある夏の少女たちより～</td>\n",
       "      <td>San and Mayu are two schoolgirls living in Oki...</td>\n",
       "      <td>47.8462</td>\n",
       "      <td>2025-03-30</td>\n",
       "      <td>Cocoon: Aru Natsu no Shoujo-tachi yori</td>\n",
       "      <td>False</td>\n",
       "      <td>6.500</td>\n",
       "      <td>2</td>\n",
       "    </tr>\n",
       "    <tr>\n",
       "      <th>101</th>\n",
       "      <td>False</td>\n",
       "      <td>[35, 18]</td>\n",
       "      <td>1086548</td>\n",
       "      <td>es</td>\n",
       "      <td>Vera y el placer de los otros</td>\n",
       "      <td>17-year-old Vera divides her days between voll...</td>\n",
       "      <td>45.8379</td>\n",
       "      <td>2024-09-26</td>\n",
       "      <td>Vera and the Pleasure of Others</td>\n",
       "      <td>False</td>\n",
       "      <td>6.632</td>\n",
       "      <td>19</td>\n",
       "    </tr>\n",
       "    <tr>\n",
       "      <th>102</th>\n",
       "      <td>False</td>\n",
       "      <td>[16, 14, 12]</td>\n",
       "      <td>823219</td>\n",
       "      <td>lv</td>\n",
       "      <td>Straume</td>\n",
       "      <td>A solitary cat, displaced by a great flood, fi...</td>\n",
       "      <td>54.2373</td>\n",
       "      <td>2024-08-29</td>\n",
       "      <td>Flow</td>\n",
       "      <td>False</td>\n",
       "      <td>8.200</td>\n",
       "      <td>1884</td>\n",
       "    </tr>\n",
       "    <tr>\n",
       "      <th>107</th>\n",
       "      <td>False</td>\n",
       "      <td>[53, 878]</td>\n",
       "      <td>650033</td>\n",
       "      <td>ru</td>\n",
       "      <td>Свободное падение</td>\n",
       "      <td>In the near future, humanity has successfully ...</td>\n",
       "      <td>60.1056</td>\n",
       "      <td>2025-05-14</td>\n",
       "      <td>Free Fall</td>\n",
       "      <td>False</td>\n",
       "      <td>0.000</td>\n",
       "      <td>0</td>\n",
       "    </tr>\n",
       "    <tr>\n",
       "      <th>114</th>\n",
       "      <td>False</td>\n",
       "      <td>[28, 18, 12, 10752]</td>\n",
       "      <td>927342</td>\n",
       "      <td>ta</td>\n",
       "      <td>அமரன்</td>\n",
       "      <td>A heroic true story of Major Mukund Varadaraja...</td>\n",
       "      <td>47.1127</td>\n",
       "      <td>2024-10-31</td>\n",
       "      <td>Amaran</td>\n",
       "      <td>False</td>\n",
       "      <td>7.389</td>\n",
       "      <td>226</td>\n",
       "    </tr>\n",
       "    <tr>\n",
       "      <th>118</th>\n",
       "      <td>False</td>\n",
       "      <td>[10749, 18]</td>\n",
       "      <td>1156593</td>\n",
       "      <td>es</td>\n",
       "      <td>Culpa tuya</td>\n",
       "      <td>The love between Noah and Nick seems unwaverin...</td>\n",
       "      <td>45.7963</td>\n",
       "      <td>2024-12-26</td>\n",
       "      <td>Your Fault</td>\n",
       "      <td>False</td>\n",
       "      <td>7.147</td>\n",
       "      <td>1225</td>\n",
       "    </tr>\n",
       "    <tr>\n",
       "      <th>122</th>\n",
       "      <td>False</td>\n",
       "      <td>[28, 80, 14, 53]</td>\n",
       "      <td>1405338</td>\n",
       "      <td>ja</td>\n",
       "      <td>Demon City 鬼ゴロシ</td>\n",
       "      <td>Framed for his family's murder and left for de...</td>\n",
       "      <td>44.2074</td>\n",
       "      <td>2025-02-27</td>\n",
       "      <td>Demon City</td>\n",
       "      <td>False</td>\n",
       "      <td>6.923</td>\n",
       "      <td>221</td>\n",
       "    </tr>\n",
       "    <tr>\n",
       "      <th>126</th>\n",
       "      <td>False</td>\n",
       "      <td>[18]</td>\n",
       "      <td>1377424</td>\n",
       "      <td>ml</td>\n",
       "      <td>വിക്ടോറിയ</td>\n",
       "      <td>Victoria, a young beautician in a suburban bea...</td>\n",
       "      <td>42.8056</td>\n",
       "      <td>2024-12-14</td>\n",
       "      <td>Victoria</td>\n",
       "      <td>False</td>\n",
       "      <td>5.000</td>\n",
       "      <td>1</td>\n",
       "    </tr>\n",
       "    <tr>\n",
       "      <th>130</th>\n",
       "      <td>False</td>\n",
       "      <td>[16, 28, 878]</td>\n",
       "      <td>1103432</td>\n",
       "      <td>ja</td>\n",
       "      <td>BLOODY ESCAPE -地獄の逃走劇-</td>\n",
       "      <td>After being turned into a cyborg, Kisaragi fac...</td>\n",
       "      <td>39.1292</td>\n",
       "      <td>2024-01-05</td>\n",
       "      <td>Bloody Escape: Bats out of Hell</td>\n",
       "      <td>False</td>\n",
       "      <td>5.333</td>\n",
       "      <td>3</td>\n",
       "    </tr>\n",
       "    <tr>\n",
       "      <th>144</th>\n",
       "      <td>False</td>\n",
       "      <td>[35, 18]</td>\n",
       "      <td>1226572</td>\n",
       "      <td>hi</td>\n",
       "      <td>सुपरबॉय्ज़ ऑफ मालेगाँव</td>\n",
       "      <td>The residents of Malegaon look to Bollywood ci...</td>\n",
       "      <td>36.5790</td>\n",
       "      <td>2025-02-28</td>\n",
       "      <td>Superboys of Malegaon</td>\n",
       "      <td>False</td>\n",
       "      <td>7.867</td>\n",
       "      <td>15</td>\n",
       "    </tr>\n",
       "    <tr>\n",
       "      <th>156</th>\n",
       "      <td>False</td>\n",
       "      <td>[27, 53, 9648]</td>\n",
       "      <td>1029880</td>\n",
       "      <td>da</td>\n",
       "      <td>Nattevagten - Dæmoner går i arv</td>\n",
       "      <td>Martin's daughter, Emma, takes up a night watc...</td>\n",
       "      <td>37.8150</td>\n",
       "      <td>2023-12-14</td>\n",
       "      <td>Nightwatch: Demons Are Forever</td>\n",
       "      <td>False</td>\n",
       "      <td>6.041</td>\n",
       "      <td>61</td>\n",
       "    </tr>\n",
       "    <tr>\n",
       "      <th>157</th>\n",
       "      <td>False</td>\n",
       "      <td>[10749, 35, 14, 27]</td>\n",
       "      <td>988402</td>\n",
       "      <td>fr</td>\n",
       "      <td>Vampire humaniste cherche suicidaire consentant</td>\n",
       "      <td>Sasha is a young vampire with a serious proble...</td>\n",
       "      <td>34.5943</td>\n",
       "      <td>2023-10-13</td>\n",
       "      <td>Humanist Vampire Seeking Consenting Suicidal P...</td>\n",
       "      <td>False</td>\n",
       "      <td>7.388</td>\n",
       "      <td>255</td>\n",
       "    </tr>\n",
       "    <tr>\n",
       "      <th>159</th>\n",
       "      <td>False</td>\n",
       "      <td>[28, 18]</td>\n",
       "      <td>1261050</td>\n",
       "      <td>da</td>\n",
       "      <td>De lydløse</td>\n",
       "      <td>In 2008, a group of men from Denmark and acros...</td>\n",
       "      <td>36.3332</td>\n",
       "      <td>2024-10-31</td>\n",
       "      <td>The Quiet Ones</td>\n",
       "      <td>False</td>\n",
       "      <td>5.830</td>\n",
       "      <td>44</td>\n",
       "    </tr>\n",
       "    <tr>\n",
       "      <th>160</th>\n",
       "      <td>False</td>\n",
       "      <td>[28, 35]</td>\n",
       "      <td>1160956</td>\n",
       "      <td>zh</td>\n",
       "      <td>熊猫计划</td>\n",
       "      <td>International action star Jackie Chan is invit...</td>\n",
       "      <td>37.7511</td>\n",
       "      <td>2024-10-01</td>\n",
       "      <td>Panda Plan</td>\n",
       "      <td>False</td>\n",
       "      <td>6.877</td>\n",
       "      <td>187</td>\n",
       "    </tr>\n",
       "    <tr>\n",
       "      <th>165</th>\n",
       "      <td>False</td>\n",
       "      <td>[10749, 18]</td>\n",
       "      <td>829557</td>\n",
       "      <td>pl</td>\n",
       "      <td>365 dni: Ten dzień</td>\n",
       "      <td>Laura and Massimo are back and hotter than eve...</td>\n",
       "      <td>34.9609</td>\n",
       "      <td>2022-04-27</td>\n",
       "      <td>365 Days: This Day</td>\n",
       "      <td>False</td>\n",
       "      <td>5.900</td>\n",
       "      <td>1702</td>\n",
       "    </tr>\n",
       "    <tr>\n",
       "      <th>166</th>\n",
       "      <td>False</td>\n",
       "      <td>[35]</td>\n",
       "      <td>968171</td>\n",
       "      <td>ja</td>\n",
       "      <td>性教育ママ</td>\n",
       "      <td>An erotic comedy depicting the sex adventures ...</td>\n",
       "      <td>35.2926</td>\n",
       "      <td>1973-11-20</td>\n",
       "      <td>Sex Education Mistresses</td>\n",
       "      <td>False</td>\n",
       "      <td>5.900</td>\n",
       "      <td>5</td>\n",
       "    </tr>\n",
       "    <tr>\n",
       "      <th>168</th>\n",
       "      <td>False</td>\n",
       "      <td>[28, 12, 14, 16]</td>\n",
       "      <td>1357633</td>\n",
       "      <td>ja</td>\n",
       "      <td>俺だけレベルアップな件 -ReAwakening-</td>\n",
       "      <td>Over a decade after 'gates' connecting worlds ...</td>\n",
       "      <td>34.1490</td>\n",
       "      <td>2024-11-26</td>\n",
       "      <td>Solo Leveling -ReAwakening-</td>\n",
       "      <td>False</td>\n",
       "      <td>7.000</td>\n",
       "      <td>185</td>\n",
       "    </tr>\n",
       "    <tr>\n",
       "      <th>169</th>\n",
       "      <td>False</td>\n",
       "      <td>[16, 14, 12]</td>\n",
       "      <td>980477</td>\n",
       "      <td>zh</td>\n",
       "      <td>哪吒之魔童闹海</td>\n",
       "      <td>Following the Tribulation, although the souls ...</td>\n",
       "      <td>35.7848</td>\n",
       "      <td>2025-01-29</td>\n",
       "      <td>Ne Zha 2</td>\n",
       "      <td>False</td>\n",
       "      <td>7.900</td>\n",
       "      <td>162</td>\n",
       "    </tr>\n",
       "    <tr>\n",
       "      <th>173</th>\n",
       "      <td>False</td>\n",
       "      <td>[16, 12, 28, 14]</td>\n",
       "      <td>1147416</td>\n",
       "      <td>fr</td>\n",
       "      <td>Miraculous World : Londres, la course contre l...</td>\n",
       "      <td>To save the future from a terrible fate, Marin...</td>\n",
       "      <td>35.5764</td>\n",
       "      <td>2024-11-14</td>\n",
       "      <td>Miraculous World: London, At the Edge of Time</td>\n",
       "      <td>False</td>\n",
       "      <td>7.340</td>\n",
       "      <td>253</td>\n",
       "    </tr>\n",
       "    <tr>\n",
       "      <th>174</th>\n",
       "      <td>False</td>\n",
       "      <td>[28, 80]</td>\n",
       "      <td>995926</td>\n",
       "      <td>ko</td>\n",
       "      <td>베테랑 2</td>\n",
       "      <td>The veteran detective Seo Do-cheol and his tea...</td>\n",
       "      <td>34.0088</td>\n",
       "      <td>2024-09-13</td>\n",
       "      <td>I, the Executioner</td>\n",
       "      <td>False</td>\n",
       "      <td>7.008</td>\n",
       "      <td>62</td>\n",
       "    </tr>\n",
       "    <tr>\n",
       "      <th>179</th>\n",
       "      <td>False</td>\n",
       "      <td>[18, 53, 80]</td>\n",
       "      <td>1079311</td>\n",
       "      <td>fr</td>\n",
       "      <td>Le Royaume</td>\n",
       "      <td>Teenage Lesia is taken by a man to a villa whe...</td>\n",
       "      <td>27.1548</td>\n",
       "      <td>2024-11-13</td>\n",
       "      <td>The Kingdom</td>\n",
       "      <td>False</td>\n",
       "      <td>7.125</td>\n",
       "      <td>44</td>\n",
       "    </tr>\n",
       "  </tbody>\n",
       "</table>\n",
       "</div>"
      ],
      "text/plain": [
       "     adult            genre_ids       id original_language  \\\n",
       "4    False     [28, 53, 80, 18]  1276073                ja   \n",
       "6    False             [28, 53]  1225915                hi   \n",
       "30   False          [35, 10749]  1403735                te   \n",
       "48   False          [10749, 18]  1252309                es   \n",
       "53   False                 [27]  1321952                es   \n",
       "66   False          [10749, 18]  1010581                es   \n",
       "68   False         [28, 12, 53]  1356039                es   \n",
       "87   False             [16, 28]  1297763                ja   \n",
       "91   False   [28, 53, 9648, 80]  1195430                hi   \n",
       "99   False      [16, 18, 10752]  1452267                ja   \n",
       "101  False             [35, 18]  1086548                es   \n",
       "102  False         [16, 14, 12]   823219                lv   \n",
       "107  False            [53, 878]   650033                ru   \n",
       "114  False  [28, 18, 12, 10752]   927342                ta   \n",
       "118  False          [10749, 18]  1156593                es   \n",
       "122  False     [28, 80, 14, 53]  1405338                ja   \n",
       "126  False                 [18]  1377424                ml   \n",
       "130  False        [16, 28, 878]  1103432                ja   \n",
       "144  False             [35, 18]  1226572                hi   \n",
       "156  False       [27, 53, 9648]  1029880                da   \n",
       "157  False  [10749, 35, 14, 27]   988402                fr   \n",
       "159  False             [28, 18]  1261050                da   \n",
       "160  False             [28, 35]  1160956                zh   \n",
       "165  False          [10749, 18]   829557                pl   \n",
       "166  False                 [35]   968171                ja   \n",
       "168  False     [28, 12, 14, 16]  1357633                ja   \n",
       "169  False         [16, 14, 12]   980477                zh   \n",
       "173  False     [16, 12, 28, 14]  1147416                fr   \n",
       "174  False             [28, 80]   995926                ko   \n",
       "179  False         [18, 53, 80]  1079311                fr   \n",
       "\n",
       "                                        original_title  \\\n",
       "4                                               新幹線大爆破   \n",
       "6                           ज्वेल थीफ: द हीस्ट बिगिन्स   \n",
       "30                                                లైలా   \n",
       "48                               Pídeme lo que quieras   \n",
       "53                                           Tu Sangre   \n",
       "66                                           Culpa mía   \n",
       "68                                        Contraataque   \n",
       "87                                    ニンジャバットマン対ヤクザリーグ   \n",
       "91                                                देवा   \n",
       "99                                  cocoon～ある夏の少女たちより～   \n",
       "101                      Vera y el placer de los otros   \n",
       "102                                            Straume   \n",
       "107                                  Свободное падение   \n",
       "114                                              அமரன்   \n",
       "118                                         Culpa tuya   \n",
       "122                                    Demon City 鬼ゴロシ   \n",
       "126                                          വിക്ടോറിയ   \n",
       "130                             BLOODY ESCAPE -地獄の逃走劇-   \n",
       "144                              सुपरबॉय्ज़ ऑफ मालेगाँव   \n",
       "156                    Nattevagten - Dæmoner går i arv   \n",
       "157    Vampire humaniste cherche suicidaire consentant   \n",
       "159                                         De lydløse   \n",
       "160                                               熊猫计划   \n",
       "165                                 365 dni: Ten dzień   \n",
       "166                                              性教育ママ   \n",
       "168                          俺だけレベルアップな件 -ReAwakening-   \n",
       "169                                            哪吒之魔童闹海   \n",
       "173  Miraculous World : Londres, la course contre l...   \n",
       "174                                              베테랑 2   \n",
       "179                                         Le Royaume   \n",
       "\n",
       "                                              overview  popularity  \\\n",
       "4    When panic erupts on a Tokyo-bound bullet trai...    326.4027   \n",
       "6    In this high-octane battle of wits and wills, ...    271.0703   \n",
       "30   Sonu Model, a renowned beautician from the old...    109.2595   \n",
       "48   After his father's death, Eric Zimmerman trave...     73.9414   \n",
       "53   My mother vanished inside the boarding school ...     71.6696   \n",
       "66   Noah must leave her city, boyfriend, and frien...     64.5658   \n",
       "68   When a hostage rescue mission creates a new en...     63.2033   \n",
       "87   The Batman family has returned to the present ...     56.1820   \n",
       "91   Dev Ambre, a ruthless cop, loses his memory in...     52.7414   \n",
       "99   San and Mayu are two schoolgirls living in Oki...     47.8462   \n",
       "101  17-year-old Vera divides her days between voll...     45.8379   \n",
       "102  A solitary cat, displaced by a great flood, fi...     54.2373   \n",
       "107  In the near future, humanity has successfully ...     60.1056   \n",
       "114  A heroic true story of Major Mukund Varadaraja...     47.1127   \n",
       "118  The love between Noah and Nick seems unwaverin...     45.7963   \n",
       "122  Framed for his family's murder and left for de...     44.2074   \n",
       "126  Victoria, a young beautician in a suburban bea...     42.8056   \n",
       "130  After being turned into a cyborg, Kisaragi fac...     39.1292   \n",
       "144  The residents of Malegaon look to Bollywood ci...     36.5790   \n",
       "156  Martin's daughter, Emma, takes up a night watc...     37.8150   \n",
       "157  Sasha is a young vampire with a serious proble...     34.5943   \n",
       "159  In 2008, a group of men from Denmark and acros...     36.3332   \n",
       "160  International action star Jackie Chan is invit...     37.7511   \n",
       "165  Laura and Massimo are back and hotter than eve...     34.9609   \n",
       "166  An erotic comedy depicting the sex adventures ...     35.2926   \n",
       "168  Over a decade after 'gates' connecting worlds ...     34.1490   \n",
       "169  Following the Tribulation, although the souls ...     35.7848   \n",
       "173  To save the future from a terrible fate, Marin...     35.5764   \n",
       "174  The veteran detective Seo Do-cheol and his tea...     34.0088   \n",
       "179  Teenage Lesia is taken by a man to a villa whe...     27.1548   \n",
       "\n",
       "    release_date                                              title  video  \\\n",
       "4     2025-04-23                             Bullet Train Explosion  False   \n",
       "6     2025-04-25                      Jewel Thief: The Heist Begins  False   \n",
       "30    2025-02-14                                              Laila  False   \n",
       "48    2024-11-29                               Ask Me What You Want  False   \n",
       "53    2024-10-31                              Sofia, the Possession  False   \n",
       "66    2023-06-08                                           My Fault  False   \n",
       "68    2025-02-28                                      Counterattack  False   \n",
       "87    2025-03-17                     Batman Ninja vs. Yakuza League  False   \n",
       "91    2025-01-31                                               Deva  False   \n",
       "99    2025-03-30             Cocoon: Aru Natsu no Shoujo-tachi yori  False   \n",
       "101   2024-09-26                    Vera and the Pleasure of Others  False   \n",
       "102   2024-08-29                                               Flow  False   \n",
       "107   2025-05-14                                          Free Fall  False   \n",
       "114   2024-10-31                                             Amaran  False   \n",
       "118   2024-12-26                                         Your Fault  False   \n",
       "122   2025-02-27                                         Demon City  False   \n",
       "126   2024-12-14                                           Victoria  False   \n",
       "130   2024-01-05                    Bloody Escape: Bats out of Hell  False   \n",
       "144   2025-02-28                              Superboys of Malegaon  False   \n",
       "156   2023-12-14                     Nightwatch: Demons Are Forever  False   \n",
       "157   2023-10-13  Humanist Vampire Seeking Consenting Suicidal P...  False   \n",
       "159   2024-10-31                                     The Quiet Ones  False   \n",
       "160   2024-10-01                                         Panda Plan  False   \n",
       "165   2022-04-27                                 365 Days: This Day  False   \n",
       "166   1973-11-20                           Sex Education Mistresses  False   \n",
       "168   2024-11-26                        Solo Leveling -ReAwakening-  False   \n",
       "169   2025-01-29                                           Ne Zha 2  False   \n",
       "173   2024-11-14      Miraculous World: London, At the Edge of Time  False   \n",
       "174   2024-09-13                                 I, the Executioner  False   \n",
       "179   2024-11-13                                        The Kingdom  False   \n",
       "\n",
       "     vote_average  vote_count  \n",
       "4           6.733         101  \n",
       "6           6.765          17  \n",
       "30          5.000           3  \n",
       "48          5.931         152  \n",
       "53          7.429           7  \n",
       "66          7.817        3665  \n",
       "68          8.361         660  \n",
       "87          6.642         151  \n",
       "91          6.111          45  \n",
       "99          6.500           2  \n",
       "101         6.632          19  \n",
       "102         8.200        1884  \n",
       "107         0.000           0  \n",
       "114         7.389         226  \n",
       "118         7.147        1225  \n",
       "122         6.923         221  \n",
       "126         5.000           1  \n",
       "130         5.333           3  \n",
       "144         7.867          15  \n",
       "156         6.041          61  \n",
       "157         7.388         255  \n",
       "159         5.830          44  \n",
       "160         6.877         187  \n",
       "165         5.900        1702  \n",
       "166         5.900           5  \n",
       "168         7.000         185  \n",
       "169         7.900         162  \n",
       "173         7.340         253  \n",
       "174         7.008          62  \n",
       "179         7.125          44  "
      ]
     },
     "execution_count": 8,
     "metadata": {},
     "output_type": "execute_result"
    }
   ],
   "source": [
    "#Match The Column\n",
    "dff[dff[\"original_title\"] != dff[\"title\"]]"
   ]
  },
  {
   "cell_type": "code",
   "execution_count": 9,
   "metadata": {
    "id": "QVh9mf3Qu0yu"
   },
   "outputs": [
    {
     "data": {
      "text/plain": [
       "Index(['adult', 'genre_ids', 'id', 'original_language', 'overview',\n",
       "       'popularity', 'release_date', 'title', 'video', 'vote_average',\n",
       "       'vote_count'],\n",
       "      dtype='object')"
      ]
     },
     "execution_count": 9,
     "metadata": {},
     "output_type": "execute_result"
    }
   ],
   "source": [
    "dff = dff.drop(columns=[\"original_title\"])\n",
    "dff.columns"
   ]
  },
  {
   "cell_type": "code",
   "execution_count": 10,
   "metadata": {
    "id": "FFSjkFDnu-et"
   },
   "outputs": [
    {
     "data": {
      "text/plain": [
       "Index(['adult', 'genre_ids', 'id', 'original_language', 'overview',\n",
       "       'popularity', 'release_date', 'title', 'vote_average', 'vote_count'],\n",
       "      dtype='object')"
      ]
     },
     "execution_count": 10,
     "metadata": {},
     "output_type": "execute_result"
    }
   ],
   "source": [
    "#Drop The Link Column\n",
    "dff = dff.drop(columns=[\"video\"])\n",
    "dff.columns"
   ]
  },
  {
   "cell_type": "code",
   "execution_count": 11,
   "metadata": {
    "id": "4Qo352PlkIgK"
   },
   "outputs": [
    {
     "data": {
      "text/plain": [
       "Novocaine             2\n",
       "Havoc                 1\n",
       "Inside Out 2          1\n",
       "Titanic               1\n",
       "Valley Girl           1\n",
       "                     ..\n",
       "Good Time             1\n",
       "The Breakfast Club    1\n",
       "The Third Man         1\n",
       "My Fault              1\n",
       "The Kingdom           1\n",
       "Name: title, Length: 179, dtype: int64"
      ]
     },
     "execution_count": 11,
     "metadata": {},
     "output_type": "execute_result"
    }
   ],
   "source": [
    "dff[\"title\"].value_counts()"
   ]
  },
  {
   "cell_type": "code",
   "execution_count": 12,
   "metadata": {
    "id": "F6GFKdmSkfvs"
   },
   "outputs": [
    {
     "data": {
      "text/html": [
       "<div>\n",
       "<style scoped>\n",
       "    .dataframe tbody tr th:only-of-type {\n",
       "        vertical-align: middle;\n",
       "    }\n",
       "\n",
       "    .dataframe tbody tr th {\n",
       "        vertical-align: top;\n",
       "    }\n",
       "\n",
       "    .dataframe thead th {\n",
       "        text-align: right;\n",
       "    }\n",
       "</style>\n",
       "<table border=\"1\" class=\"dataframe\">\n",
       "  <thead>\n",
       "    <tr style=\"text-align: right;\">\n",
       "      <th></th>\n",
       "      <th>adult</th>\n",
       "      <th>genre_ids</th>\n",
       "      <th>id</th>\n",
       "      <th>original_language</th>\n",
       "      <th>overview</th>\n",
       "      <th>popularity</th>\n",
       "      <th>release_date</th>\n",
       "      <th>title</th>\n",
       "      <th>vote_average</th>\n",
       "      <th>vote_count</th>\n",
       "    </tr>\n",
       "  </thead>\n",
       "  <tbody>\n",
       "    <tr>\n",
       "      <th>45</th>\n",
       "      <td>False</td>\n",
       "      <td>[28, 53]</td>\n",
       "      <td>1125899</td>\n",
       "      <td>en</td>\n",
       "      <td>When a group of radical activists take over an...</td>\n",
       "      <td>73.5716</td>\n",
       "      <td>2025-02-19</td>\n",
       "      <td>Cleaner</td>\n",
       "      <td>6.607</td>\n",
       "      <td>234</td>\n",
       "    </tr>\n",
       "    <tr>\n",
       "      <th>57</th>\n",
       "      <td>False</td>\n",
       "      <td>[28, 10752]</td>\n",
       "      <td>1373723</td>\n",
       "      <td>en</td>\n",
       "      <td>War stories about family, ethics and honor inc...</td>\n",
       "      <td>63.8189</td>\n",
       "      <td>2025-03-20</td>\n",
       "      <td>The Codes of War</td>\n",
       "      <td>6.200</td>\n",
       "      <td>59</td>\n",
       "    </tr>\n",
       "  </tbody>\n",
       "</table>\n",
       "</div>"
      ],
      "text/plain": [
       "    adult    genre_ids       id original_language  \\\n",
       "45  False     [28, 53]  1125899                en   \n",
       "57  False  [28, 10752]  1373723                en   \n",
       "\n",
       "                                             overview  popularity  \\\n",
       "45  When a group of radical activists take over an...     73.5716   \n",
       "57  War stories about family, ethics and honor inc...     63.8189   \n",
       "\n",
       "   release_date             title  vote_average  vote_count  \n",
       "45   2025-02-19           Cleaner         6.607         234  \n",
       "57   2025-03-20  The Codes of War         6.200          59  "
      ]
     },
     "execution_count": 12,
     "metadata": {},
     "output_type": "execute_result"
    }
   ],
   "source": [
    "#Match The Duplicate Row\n",
    "dff[(dff[\"title\"] == \"Cleaner\") | (dff[\"title\"] == \"The Codes of War\")]"
   ]
  },
  {
   "cell_type": "code",
   "execution_count": 13,
   "metadata": {
    "executionInfo": {
     "elapsed": 4,
     "status": "ok",
     "timestamp": 1746072372207,
     "user": {
      "displayName": "Kushal Soni",
      "userId": "05138966085461883049"
     },
     "user_tz": -330
    },
    "id": "QOhfzpIsliye"
   },
   "outputs": [],
   "source": [
    "#### Drop The matched value\n",
    "dff = dff.drop(index=[18,19])"
   ]
  },
  {
   "cell_type": "code",
   "execution_count": 14,
   "metadata": {
    "id": "DeYnSHgAnJk3"
   },
   "outputs": [
    {
     "name": "stdout",
     "output_type": "stream",
     "text": [
      "False    178\n",
      "Name: adult, dtype: int64\n",
      "[28, 12, 878]         7\n",
      "[28, 53]              5\n",
      "[10749, 18]           5\n",
      "[27, 53]              5\n",
      "[28, 12, 53]          4\n",
      "                     ..\n",
      "[18, 14, 878]         1\n",
      "[28, 12]              1\n",
      "[53, 35]              1\n",
      "[10751, 14, 10749]    1\n",
      "[18, 53, 80]          1\n",
      "Name: genre_ids, Length: 122, dtype: int64\n",
      "668489     1\n",
      "319        1\n",
      "597        1\n",
      "19053      1\n",
      "450465     1\n",
      "          ..\n",
      "429200     1\n",
      "2108       1\n",
      "1092       1\n",
      "1010581    1\n",
      "1079311    1\n",
      "Name: id, Length: 178, dtype: int64\n",
      "en    142\n",
      "es      9\n",
      "ja      7\n",
      "fr      4\n",
      "hi      3\n",
      "da      2\n",
      "zh      2\n",
      "te      1\n",
      "de      1\n",
      "nl      1\n",
      "lv      1\n",
      "ru      1\n",
      "ta      1\n",
      "ml      1\n",
      "pl      1\n",
      "ko      1\n",
      "Name: original_language, dtype: int64\n",
      "When a drug heist swerves lethally out of control, a jaded cop fights his way through a corrupt city's criminal underworld to save a politician's son.                                                                                                                                                                                                                                                           1\n",
      "Clarence marries hooker Alabama, steals cocaine from her pimp, and tries to sell it in Hollywood, while the owners of the coke try to reclaim it.                                                                                                                                                                                                                                                                1\n",
      "101-year-old Rose DeWitt Bukater tells the story of her life aboard the Titanic, 84 years later. A young Rose boards the ship with her mother and fiancé. Meanwhile, Jack Dawson and Fabrizio De Rossi win third-class tickets aboard the ship. Rose tells the whole story from Titanic's departure through to its death—on its first and last voyage—on April 15, 1912.                                         1\n",
      "Julie, a girl from the valley, meets Randy, a punk from the city. They are from different worlds and find love. Somehow they need to stay together in spite of her trendy, shallow friends.                                                                                                                                                                                                                      1\n",
      "In a series of escalating encounters, former security guard David Dunn uses his supernatural abilities to track Kevin Wendell Crumb, a disturbed man who has twenty-four personalities. Meanwhile, the shadowy presence of Elijah Price emerges as an orchestrator who holds secrets critical to both men.                                                                                                       1\n",
      "                                                                                                                                                                                                                                                                                                                                                                                                                ..\n",
      "After a botched bank robbery lands his younger brother in prison, Connie Nikas embarks on a twisted odyssey through New York City's underworld to get his brother Nick out of jail.                                                                                                                                                                                                                              1\n",
      "Five high school students from different walks of life endure a Saturday detention under a power-hungry principal. The disparate group includes rebel John, princess Claire, outcast Allison, brainy Brian and Andrew, the jock. Each has a chance to tell his or her story, making the others see them a little differently -- and when the day ends, they question whether school will ever be the same.       1\n",
      "In postwar Vienna, Austria, Holly Martins, a writer of pulp Westerns, arrives penniless as a guest of his childhood chum Harry Lime, only to learn he has died. Martins develops a conspiracy theory after learning of a \"third man\" present at the time of Harry's death, running into interference from British officer Major Calloway, and falling head-over-heels for Harry's grief-stricken lover, Anna.    1\n",
      "Noah must leave her city, boyfriend, and friends to move into William Leister's mansion, the flashy and wealthy husband of her mother Rafaela. As a proud and independent 17 year old, Noah resists living in a mansion surrounded by luxury. However, it is there where she meets Nick, her new stepbrother, and the clash of their strong personalities becomes evident from the very beginning.               1\n",
      "Teenage Lesia is taken by a man to a villa where her fugitive father and his men are hiding. A war erupts, leading to death and a chase where father and daughter bond.                                                                                                                                                                                                                                          1\n",
      "Name: overview, Length: 178, dtype: int64\n",
      "584.7785    1\n",
      "40.4110     1\n",
      "45.8365     1\n",
      "40.7072     1\n",
      "38.8303     1\n",
      "           ..\n",
      "81.0002     1\n",
      "84.3031     1\n",
      "87.9711     1\n",
      "64.5658     1\n",
      "27.1548     1\n",
      "Name: popularity, Length: 178, dtype: int64\n",
      "2024-10-31    5\n",
      "2025-03-27    4\n",
      "2025-03-20    4\n",
      "2024-07-25    3\n",
      "2025-04-23    3\n",
      "             ..\n",
      "2010-10-28    1\n",
      "1977-05-25    1\n",
      "2023-06-08    1\n",
      "1949-08-31    1\n",
      "2002-05-01    1\n",
      "Name: release_date, Length: 149, dtype: int64\n",
      "Havoc                 1\n",
      "True Romance          1\n",
      "Titanic               1\n",
      "Valley Girl           1\n",
      "Glass                 1\n",
      "                     ..\n",
      "Good Time             1\n",
      "The Breakfast Club    1\n",
      "The Third Man         1\n",
      "My Fault              1\n",
      "The Kingdom           1\n",
      "Name: title, Length: 178, dtype: int64\n",
      "0.000    4\n",
      "6.200    3\n",
      "6.600    2\n",
      "7.750    2\n",
      "7.300    2\n",
      "        ..\n",
      "7.916    1\n",
      "7.817    1\n",
      "8.204    1\n",
      "8.361    1\n",
      "7.125    1\n",
      "Name: vote_average, Length: 158, dtype: int64\n",
      "0        4\n",
      "44       3\n",
      "61       2\n",
      "15       2\n",
      "3        2\n",
      "        ..\n",
      "8134     1\n",
      "1937     1\n",
      "3665     1\n",
      "21107    1\n",
      "19563    1\n",
      "Name: vote_count, Length: 165, dtype: int64\n"
     ]
    }
   ],
   "source": [
    "for i in dff.columns:\n",
    "  print(dff[i].value_counts())"
   ]
  },
  {
   "cell_type": "code",
   "execution_count": 15,
   "metadata": {
    "executionInfo": {
     "elapsed": 4,
     "status": "ok",
     "timestamp": 1746072400686,
     "user": {
      "displayName": "Kushal Soni",
      "userId": "05138966085461883049"
     },
     "user_tz": -330
    },
    "id": "Fxq_OhmWn66U"
   },
   "outputs": [],
   "source": [
    "#Change The DataType Object To DateTime\n",
    "dff[\"release_date\"] = pd.to_datetime(dff[\"release_date\"])"
   ]
  },
  {
   "cell_type": "code",
   "execution_count": 16,
   "metadata": {
    "colab": {
     "base_uri": "https://localhost:8080/"
    },
    "executionInfo": {
     "elapsed": 54,
     "status": "ok",
     "timestamp": 1746072404927,
     "user": {
      "displayName": "Kushal Soni",
      "userId": "05138966085461883049"
     },
     "user_tz": -330
    },
    "id": "vHcTrxvcpdG0",
    "outputId": "3b8376eb-3c87-4294-e593-a0a2b794bcb1"
   },
   "outputs": [
    {
     "data": {
      "text/plain": [
       "Index(['adult', 'genre_ids', 'id', 'original_language', 'overview',\n",
       "       'popularity', 'release_date', 'title', 'vote_average', 'vote_count'],\n",
       "      dtype='object')"
      ]
     },
     "execution_count": 16,
     "metadata": {},
     "output_type": "execute_result"
    }
   ],
   "source": [
    "dff_new = dff[dff[\"release_date\"].dt.year > 1990]\n",
    "dff_new.columns"
   ]
  },
  {
   "cell_type": "code",
   "execution_count": 22,
   "metadata": {
    "executionInfo": {
     "elapsed": 16,
     "status": "ok",
     "timestamp": 1746072451039,
     "user": {
      "displayName": "Kushal Soni",
      "userId": "05138966085461883049"
     },
     "user_tz": -330
    },
    "id": "_j5MIJWoBpCV"
   },
   "outputs": [],
   "source": [
    "#Saving Cleaned CSV File\n",
    "dff.to_csv(\"tmdb_cleaned.csv\")"
   ]
  },
  {
   "cell_type": "markdown",
   "metadata": {
    "id": "dy8P6TyfyBgI"
   },
   "source": [
    "#### Data Visualization"
   ]
  },
  {
   "cell_type": "code",
   "execution_count": 17,
   "metadata": {
    "executionInfo": {
     "elapsed": 1289,
     "status": "ok",
     "timestamp": 1746072554358,
     "user": {
      "displayName": "Kushal Soni",
      "userId": "05138966085461883049"
     },
     "user_tz": -330
    },
    "id": "33Lr7tqOyDSw"
   },
   "outputs": [],
   "source": [
    "import seaborn as sns\n",
    "import matplotlib.pyplot as plt"
   ]
  },
  {
   "cell_type": "code",
   "execution_count": 18,
   "metadata": {
    "colab": {
     "base_uri": "https://localhost:8080/",
     "height": 487
    },
    "executionInfo": {
     "elapsed": 793,
     "status": "ok",
     "timestamp": 1746074774766,
     "user": {
      "displayName": "Kushal Soni",
      "userId": "05138966085461883049"
     },
     "user_tz": -330
    },
    "id": "O24Obcrpt8hu",
    "outputId": "eb81cae5-b36a-4264-aed7-39918a5fe9a2"
   },
   "outputs": [
    {
     "data": {
      "image/png": "[encoded data removed]",
      "text/plain": [
       "<Figure size 1000x500 with 1 Axes>"
      ]
     },
     "metadata": {},
     "output_type": "display_data"
    }
   ],
   "source": [
    "plt.figure(figsize=(10,5))\n",
    "plt.title(\"Trends in Popularity Over the Years\")\n",
    "ax =sns.lineplot(x=dff_new[\"release_date\"].dt.year,y=dff_new[\"popularity\"],marker=\"o\",color = \"#DC143C\",data=dff_new)\n",
    "plt.grid(True)\n",
    "\n",
    "for line in ax.lines:\n",
    "    for x, y in zip(line.get_xdata(), line.get_ydata()):\n",
    "        ax.text(x, y + 0.5, f\"{y:.1f}\", ha='center', va='bottom', fontsize=7,color=\"#000000\")\n",
    "\n",
    "plt.show()"
   ]
  },
  {
   "cell_type": "code",
   "execution_count": 53,
   "metadata": {
    "colab": {
     "base_uri": "https://localhost:8080/",
     "height": 487
    },
    "executionInfo": {
     "elapsed": 313,
     "status": "ok",
     "timestamp": 1746074522641,
     "user": {
      "displayName": "Kushal Soni",
      "userId": "05138966085461883049"
     },
     "user_tz": -330
    },
    "id": "Nm88r2TwDSr3",
    "outputId": "bd8e2b94-cef3-46f4-becd-e34ffb6e7fd4"
   },
   "outputs": [
    {
     "data": {
      "image/png": "[encoded data removed]",
      "text/plain": [
       "<Figure size 1000x500 with 1 Axes>"
      ]
     },
     "metadata": {},
     "output_type": "display_data"
    }
   ],
   "source": [
    "plt.figure(figsize=(10,5))\n",
    "plt.title(\"Number of Movies per Language\")\n",
    "sns.countplot(x=dff[\"original_language\"],color=\"#8B4513\")\n",
    "plt.show()"
   ]
  },
  {
   "cell_type": "code",
   "execution_count": 65,
   "metadata": {
    "colab": {
     "base_uri": "https://localhost:8080/",
     "height": 476
    },
    "executionInfo": {
     "elapsed": 887,
     "status": "ok",
     "timestamp": 1746074797400,
     "user": {
      "displayName": "Kushal Soni",
      "userId": "05138966085461883049"
     },
     "user_tz": -330
    },
    "id": "nlCa68dlCTgu",
    "outputId": "ef0bdba4-cde9-4650-a5d6-e8baa16346ee"
   },
   "outputs": [
    {
     "data": {
      "image/png": "[encoded data removed]",
      "text/plain": [
       "<Figure size 1200x500 with 1 Axes>"
      ]
     },
     "metadata": {},
     "output_type": "display_data"
    }
   ],
   "source": [
    "plt.figure(figsize=(12,5))\n",
    "plt.title(\"Average Vote by Language\")\n",
    "ax = sns.barplot(x=dff[\"original_language\"],y=dff[\"vote_average\"],color=\"#556B2F\")\n",
    "\n",
    "# Add value labels on bars\n",
    "for container in ax.containers:\n",
    "    ax.bar_label(container, fmt='%.1f', label_type='edge', padding=3)\n",
    "plt.show()"
   ]
  },
  {
   "cell_type": "markdown",
   "metadata": {
    "id": "11-eAHnmHMPI"
   },
   "source": [
    "#### Text File Creation"
   ]
  },
  {
   "cell_type": "code",
   "execution_count": 49,
   "metadata": {
    "executionInfo": {
     "elapsed": 25,
     "status": "ok",
     "timestamp": 1746074233224,
     "user": {
      "displayName": "Kushal Soni",
      "userId": "05138966085461883049"
     },
     "user_tz": -330
    },
    "id": "CJohXw-IHOrT"
   },
   "outputs": [],
   "source": [
    "dff.to_csv(\"/content/movies_data.txt\",sep =\"\\t\",index = False)"
   ]
  }
 ],
 "metadata": {
  "colab": {
   "authorship_tag": "ABX9TyPXvv0QmDk8/xcbEDF28/bm",
   "provenance": []
  },
  "kernelspec": {
   "display_name": "Python (project)",
   "language": "python",
   "name": "project"
  },
  "language_info": {
   "codemirror_mode": {
    "name": "ipython",
    "version": 3
   },
   "file_extension": ".py",
   "mimetype": "text/x-python",
   "name": "python",
   "nbconvert_exporter": "python",
   "pygments_lexer": "ipython3",
   "version": "3.9.13"
  }
 },
 "nbformat": 4,
 "nbformat_minor": 0
}
