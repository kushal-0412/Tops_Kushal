{
 "cells": [
  {
   "cell_type": "markdown",
   "metadata": {},
   "source": [
    "#### (4)Write a program to check whether number is positive,negative or zero"
   ]
  },
  {
   "cell_type": "code",
   "execution_count": 3,
   "metadata": {},
   "outputs": [
    {
     "name": "stdout",
     "output_type": "stream",
     "text": [
      "The Number is negative\n"
     ]
    }
   ],
   "source": [
    "a = int(input(\"Enter the Number::-\"))\n",
    "\n",
    "if (a>0):\n",
    "    print(\"The Number is Positive\")\n",
    "elif(a<0):\n",
    "    print(\"The Number is negative\")\n",
    "else:\n",
    "    print(\"The Number is Zero\")"
   ]
  },
  {
   "cell_type": "markdown",
   "metadata": {},
   "source": [
    "#### (5)Write a program to get the factorial number of given number"
   ]
  },
  {
   "cell_type": "code",
   "execution_count": 7,
   "metadata": {},
   "outputs": [
    {
     "name": "stdout",
     "output_type": "stream",
     "text": [
      "24\n"
     ]
    }
   ],
   "source": [
    "num = int(input(\"Enter The Number:-\"))\n",
    "\n",
    "fact = 1\n",
    "for i in range(num,0,-1):\n",
    "   fact = fact*i\n",
    "print(fact)"
   ]
  },
  {
   "cell_type": "markdown",
   "metadata": {},
   "source": [
    "#### (6)Write a Program to get the fibonacci series of a given range"
   ]
  },
  {
   "cell_type": "code",
   "execution_count": 44,
   "metadata": {},
   "outputs": [
    {
     "name": "stdout",
     "output_type": "stream",
     "text": [
      "[0, 1, 1]\n"
     ]
    }
   ],
   "source": [
    "num = int(input(\"Enter The Number\"))\n",
    "a = [0,1]\n",
    "\n",
    "for i in range(num):\n",
    "    c = a[-1] + a[-2]\n",
    "    a.append(c)\n",
    "print(a)"
   ]
  },
  {
   "cell_type": "markdown",
   "metadata": {},
   "source": [
    "#### (9)Write python program that swap two number with temp variable and without temp variable. "
   ]
  },
  {
   "cell_type": "code",
   "execution_count": 4,
   "metadata": {},
   "outputs": [
    {
     "name": "stdout",
     "output_type": "stream",
     "text": [
      "20 10\n"
     ]
    }
   ],
   "source": [
    "#With Temp variable\n",
    "a = 10\n",
    "b = 20\n",
    "\n",
    "c = a\n",
    "a = b\n",
    "b = c\n",
    "\n",
    "print(a,b) \n"
   ]
  },
  {
   "cell_type": "code",
   "execution_count": 8,
   "metadata": {},
   "outputs": [
    {
     "name": "stdout",
     "output_type": "stream",
     "text": [
      "Entered Number is 25 and 45\n",
      "Swapped Number is 45 and 25\n"
     ]
    }
   ],
   "source": [
    "#Without the temp variable\n",
    "a = int(input(\"Enter the first number:-\"))\n",
    "b = int(input(\"Enter the second number:-\"))\n",
    "\n",
    "print(f\"Entered Number is {a} and {b}\")\n",
    "\n",
    "a,b = b,a\n",
    "\n",
    "print(f\"Swapped Number is {a} and {b}\")"
   ]
  },
  {
   "cell_type": "markdown",
   "metadata": {},
   "source": [
    "#### (10)Write a Python program to find whether a given number is even or odd, print out an appropriate message to the user. "
   ]
  },
  {
   "cell_type": "code",
   "execution_count": 13,
   "metadata": {},
   "outputs": [
    {
     "name": "stdout",
     "output_type": "stream",
     "text": [
      "The Number 25 is ODD\n"
     ]
    }
   ],
   "source": [
    "def Check(number):\n",
    "    if (number % 2 == 0):\n",
    "        print(f\"The Number {number} Is EVEN\")\n",
    "    else:\n",
    "        print(f\"The Number {number} is ODD\")\n",
    "\n",
    "try:\n",
    "    num = int(input(\"Enter the number:-\"))\n",
    "    Check(num)\n",
    "except:\n",
    "    print(\"Enter the valid number\")"
   ]
  },
  {
   "cell_type": "code",
   "execution_count": 11,
   "metadata": {},
   "outputs": [
    {
     "name": "stdout",
     "output_type": "stream",
     "text": [
      "The Entered Number (25) is ODD\n"
     ]
    }
   ],
   "source": [
    "a = int(input(\"Enter The Number To Check:-\"))\n",
    "if(a % 2 == 0):\n",
    "    print(f\"The Entered Number ({a}) is EVEN \")\n",
    "else:\n",
    "    print(f\"The Entered Number ({a}) is ODD\")"
   ]
  },
  {
   "cell_type": "markdown",
   "metadata": {},
   "source": [
    "####  (11)Write a Python program to test whether a passed letter is a vowel or not. "
   ]
  },
  {
   "cell_type": "code",
   "execution_count": null,
   "metadata": {},
   "outputs": [],
   "source": [
    "#Simple Program\n",
    "st = input(\"Enter the letter:-\")\n",
    "lst =[\"a\",\"e\",\"i\",\"o\",\"u\"]\n",
    "\n",
    "if st in lst:\n",
    "    print(\"Entered number is Vowel\")\n",
    "else:\n",
    "    print(\"Entered letter is not Vowel\")\n"
   ]
  },
  {
   "cell_type": "code",
   "execution_count": 21,
   "metadata": {},
   "outputs": [
    {
     "name": "stdout",
     "output_type": "stream",
     "text": [
      "Entered letter is not Vowel\n"
     ]
    }
   ],
   "source": [
    "#With the Fuction\n",
    "lst =[\"a\",\"e\",\"i\",\"o\",\"u\"]\n",
    "\n",
    "def vowel(vowel1):\n",
    "    if vowel1 in lst:\n",
    "        print(\"Entered number is Vowel\")\n",
    "    else:\n",
    "        print(\"Entered letter is not Vowel\")\n",
    "\n",
    "try:\n",
    "    st = str(input(\"Enter the letter:-\"))\n",
    "    vowel(st)\n",
    "except:\n",
    "    print(\"Enter the Valid Letter\")"
   ]
  },
  {
   "cell_type": "markdown",
   "metadata": {},
   "source": [
    "#### 13) Write a Python program that will return true if the two given integer values are equal or their sum or difference is 5."
   ]
  },
  {
   "cell_type": "code",
   "execution_count": 2,
   "metadata": {},
   "outputs": [
    {
     "name": "stdout",
     "output_type": "stream",
     "text": [
      "False\n"
     ]
    }
   ],
   "source": [
    "a = int(input(\"Enter the first number:-\"))\n",
    "b = int(input(\"Enter the second number:-\"))\n",
    "\n",
    "if (a == b or a+b==5 or a-b ==5):\n",
    "    print(True)\n",
    "else:\n",
    "    print(False)"
   ]
  },
  {
   "cell_type": "markdown",
   "metadata": {},
   "source": [
    "#### 14) Write a python program to sum of the first n positive integers. "
   ]
  },
  {
   "cell_type": "code",
   "execution_count": 19,
   "metadata": {},
   "outputs": [
    {
     "name": "stdout",
     "output_type": "stream",
     "text": [
      "[1, 2, 3]\n",
      "The Sum Of the First n Positive Integers are:- 6\n"
     ]
    }
   ],
   "source": [
    "n = int(input(\"Enter the Number:-\"))\n",
    "\n",
    "b = []\n",
    "for i in range(0,n):\n",
    "    a = i+1\n",
    "    b.append(a)\n",
    "print(b)\n",
    "print(f\"The Sum Of the First n Positive Integers are:- {sum(b)}\")"
   ]
  },
  {
   "cell_type": "markdown",
   "metadata": {},
   "source": [
    "#### 15) Write a Python program to calculate the length of a string. "
   ]
  },
  {
   "cell_type": "code",
   "execution_count": 21,
   "metadata": {},
   "outputs": [],
   "source": [
    "def length(stri):\n",
    "    print(f\"The Length of the string is:- {len(stri)}\")"
   ]
  },
  {
   "cell_type": "code",
   "execution_count": 22,
   "metadata": {},
   "outputs": [
    {
     "name": "stdout",
     "output_type": "stream",
     "text": [
      "The Length of the string is:- 11\n"
     ]
    }
   ],
   "source": [
    "string = input(\"Enter the String:-\")\n",
    "length(string)\n"
   ]
  },
  {
   "cell_type": "markdown",
   "metadata": {},
   "source": [
    "#### 16) Write a Python program to count the number of characters (character frequency) in a string "
   ]
  },
  {
   "cell_type": "code",
   "execution_count": null,
   "metadata": {},
   "outputs": [],
   "source": [
    "intput = input(\"Enter the Characters:-\")"
   ]
  },
  {
   "cell_type": "markdown",
   "metadata": {},
   "source": [
    "#### 18) Write a Python program to count occurrences of a substring in a string. "
   ]
  },
  {
   "cell_type": "code",
   "execution_count": 5,
   "metadata": {},
   "outputs": [
    {
     "name": "stdout",
     "output_type": "stream",
     "text": [
      "The Substring Count Is:- 1\n"
     ]
    }
   ],
   "source": [
    "a = input(\"Enter String:-\")\n",
    "b = input(\"Enter the SubString:-\")\n",
    "\n",
    "count = a.count(b)\n",
    "print(f\"The Substring Count Is:- {count}\")\n"
   ]
  },
  {
   "cell_type": "markdown",
   "metadata": {},
   "source": [
    "#### 19) Write a Python program to count the occurrences of each word in a given sentence.\n",
    "  "
   ]
  },
  {
   "cell_type": "code",
   "execution_count": 6,
   "metadata": {},
   "outputs": [
    {
     "name": "stdout",
     "output_type": "stream",
     "text": [
      "The Substring Count Is:- 1\n"
     ]
    }
   ],
   "source": [
    "a = input(\"Enter Paragraph:-\")\n",
    "b = input(\"Enter the Word:-\")\n",
    "\n",
    "count = a.count(b)\n",
    "print(f\"The Substring Count Is:- {count}\")"
   ]
  },
  {
   "cell_type": "markdown",
   "metadata": {},
   "source": [
    "#### 20) Write a Python program to get a single string from two given strings, separated by a space and swap the first two characters of each string. "
   ]
  },
  {
   "cell_type": "code",
   "execution_count": 26,
   "metadata": {},
   "outputs": [
    {
     "name": "stdout",
     "output_type": "stream",
     "text": [
      "The Single String is:-Kushal Soni\n",
      "Original strings: a = Kushal, b = Soni\n",
      "Swapped result: Soshal Kuni\n"
     ]
    }
   ],
   "source": [
    "a = input(\"Enter The First String:-\")\n",
    "b = input(\"Enter The Second String:-\")\n",
    "\n",
    "c = a+\" \"+b\n",
    "\n",
    "new_a = b[0:2] + a[2:]\n",
    "new_b = a[0:2] + b[2:]\n",
    "result = new_a+\" \"+new_b\n",
    "\n",
    "print(f\"The Single String is:-{c}\")\n",
    "\n",
    "print(f\"Original strings: a = {a}, b = {b}\")\n",
    "print(f\"Swapped result: {result}\")"
   ]
  },
  {
   "cell_type": "markdown",
   "metadata": {},
   "source": [
    "#### 21) Write a Python program to add 'in' at the end of a given string (length should be at least 3). If the given string already ends with 'ing' then add 'ly' instead if the string length of the given string is less than 3, leave it unchanged. "
   ]
  },
  {
   "cell_type": "code",
   "execution_count": 44,
   "metadata": {},
   "outputs": [
    {
     "name": "stdout",
     "output_type": "stream",
     "text": [
      "Kushalin\n"
     ]
    }
   ],
   "source": [
    "a = input(\"Enter The String:-\")\n",
    "\n",
    "if len(a)>=3 and a[-3:len(a)] != \"ing\":\n",
    "    b = a + \"in\"\n",
    "    print(b)\n",
    "\n",
    "elif a[-3:len(a)] == \"ing\":\n",
    "    b = a+\"ly\"\n",
    "    print(b)\n",
    "\n",
    "else:\n",
    "    print(a)"
   ]
  },
  {
   "cell_type": "markdown",
   "metadata": {},
   "source": [
    "#### 22) Write a Python function to reverses a string if its length is a multiple of 4. "
   ]
  },
  {
   "cell_type": "code",
   "execution_count": 62,
   "metadata": {},
   "outputs": [
    {
     "name": "stdout",
     "output_type": "stream",
     "text": [
      "hello\n"
     ]
    }
   ],
   "source": [
    "a = input(\"Enter The String:-\")\n",
    "\n",
    "if len(a) % 4 == 0:\n",
    "    b = a[::-1]\n",
    "    print(b)\n",
    "else:\n",
    "    print(a)"
   ]
  },
  {
   "cell_type": "markdown",
   "metadata": {},
   "source": [
    "#### 24) Write a Python function to insert a string in the middle of a string. "
   ]
  },
  {
   "cell_type": "code",
   "execution_count": 93,
   "metadata": {},
   "outputs": [
    {
     "name": "stdout",
     "output_type": "stream",
     "text": [
      "The formatted string is: KUS SONI HAL\n"
     ]
    }
   ],
   "source": [
    "\n",
    "def insert_in_middle(original_string, string_to_insert):\n",
    "    \n",
    "    middle_index = len(original_string) // 2\n",
    "    \n",
    "    \n",
    "    part1 = original_string[:middle_index]\n",
    "    part2 = original_string[middle_index:]\n",
    "    \n",
    "    \n",
    "    formatted_string = part1 + \" \" + string_to_insert + \" \" + part2\n",
    "    \n",
    "    return formatted_string\n",
    "\n",
    "\n",
    "original = input(\"Enter the original string: \")\n",
    "to_insert = input(\"Enter the string to insert in the middle: \")\n",
    "\n",
    "result = insert_in_middle(original, to_insert)\n",
    "print(f\"The formatted string is: {result}\")\n"
   ]
  },
  {
   "cell_type": "markdown",
   "metadata": {},
   "source": [
    "#### 29) Write a Python function to get the largest number, smallest num and sum of all from a list"
   ]
  },
  {
   "cell_type": "code",
   "execution_count": 6,
   "metadata": {},
   "outputs": [
    {
     "name": "stdout",
     "output_type": "stream",
     "text": [
      "The Smallest Number is:- 12\n",
      "The Largest Number is:- 96\n",
      "The Sum of the list is:- 281\n"
     ]
    }
   ],
   "source": [
    "def check_s_l_s(list2):\n",
    "    list2.sort()\n",
    "    print(f\"The Smallest Number is:- {list2[0]}\")\n",
    "    print(f\"The Largest Number is:- {list2[-1]}\")\n",
    "    print(f\"The Sum of the list is:- {sum(list2)}\")\n",
    "\n",
    "\n",
    "try:\n",
    "    lis = [25,12,45,36,96,14,53]\n",
    "    check_s_l_s(lis)\n",
    "except:\n",
    "    print(\"Enter the Valid List\")"
   ]
  },
  {
   "cell_type": "markdown",
   "metadata": {},
   "source": [
    "#### 31) Write a Python program to count the number of strings where the string  length is 2 or more and the first and last character are same from a given list of strings. "
   ]
  },
  {
   "cell_type": "code",
   "execution_count": 33,
   "metadata": {},
   "outputs": [
    {
     "name": "stdout",
     "output_type": "stream",
     "text": [
      "The Count is :- 1\n"
     ]
    }
   ],
   "source": [
    "lis = [\"Kushal\",\"Jay\",\"mam\",\"ll\"]\n",
    "new_l = []\n",
    "\n",
    "for i in range(len(lis)):\n",
    "    if len(lis[i]) >2 and (lis[i][0] == lis[i][-1]):\n",
    "        new_l.append(lis[i])\n",
    "\n",
    "\n",
    "print(f\"The Count is :- {len(new_l)}\")"
   ]
  },
  {
   "cell_type": "markdown",
   "metadata": {},
   "source": [
    "#### 32) Write a Python program to remove duplicates from a list. "
   ]
  },
  {
   "cell_type": "code",
   "execution_count": 38,
   "metadata": {},
   "outputs": [
    {
     "name": "stdout",
     "output_type": "stream",
     "text": [
      "New List is:- [25, 36, 14, 15]\n"
     ]
    }
   ],
   "source": [
    "lst = [25,14,25,36,15]\n",
    "new_list = list(set(lst))\n",
    "print(f\"New List is:- {new_list}\")"
   ]
  },
  {
   "cell_type": "code",
   "execution_count": 40,
   "metadata": {},
   "outputs": [
    {
     "name": "stdout",
     "output_type": "stream",
     "text": [
      "[1, 2, 3, 4, 5]\n"
     ]
    }
   ],
   "source": [
    "#Inspect The Code\n",
    "my_list = [1, 2, 3, 2, 4, 2, 5, 3]\n",
    "unique_list = []\n",
    "for item in my_list:\n",
    "    if item not in unique_list:\n",
    "        unique_list.append(item)\n",
    "\n",
    "print(unique_list)  # Output: [1, 2, 3, 4, 5]\n"
   ]
  },
  {
   "cell_type": "markdown",
   "metadata": {},
   "source": [
    "#### 33) Write a Python program to check a list is empty or not."
   ]
  },
  {
   "cell_type": "code",
   "execution_count": 45,
   "metadata": {},
   "outputs": [
    {
     "name": "stdout",
     "output_type": "stream",
     "text": [
      "The List is empty\n"
     ]
    }
   ],
   "source": [
    "lst=[]\n",
    "if len(lst) == 0:\n",
    "    print(\"The List is empty\")\n",
    "else:\n",
    "    print(\"The List is not empty\")"
   ]
  },
  {
   "cell_type": "markdown",
   "metadata": {},
   "source": [
    "#### 34) Write a Python function that takes two lists and returns true if they have at least one common member. "
   ]
  },
  {
   "cell_type": "code",
   "execution_count": null,
   "metadata": {},
   "outputs": [],
   "source": [
    "lst1 = [1,2,3]\n",
    "lst2 = [1,5,6]\n"
   ]
  },
  {
   "cell_type": "markdown",
   "metadata": {},
   "source": [
    "#### 35) Write a Python program to generate and print a list of first and last 5 elements where the values are square of numbers between 1 and 30. "
   ]
  },
  {
   "cell_type": "code",
   "execution_count": 48,
   "metadata": {},
   "outputs": [],
   "source": [
    "square_lst = []\n",
    "for i in range(1,30,1):\n",
    "    square_lst.append(i**2)"
   ]
  },
  {
   "cell_type": "markdown",
   "metadata": {},
   "source": [
    "#### 36) Write a Python function that takes a list and returns a new list with unique elements of the first list. "
   ]
  },
  {
   "cell_type": "code",
   "execution_count": 54,
   "metadata": {},
   "outputs": [
    {
     "name": "stdout",
     "output_type": "stream",
     "text": [
      "[1, 3, 5, 4, 7, 8, 2]\n"
     ]
    }
   ],
   "source": [
    "lst = [1,3,1,5,4,7,7,8,7,2]\n",
    "unique_lst = []\n",
    "\n",
    "for item in lst:\n",
    "    if item not in unique_lst:\n",
    "        unique_lst.append(item)\n",
    "\n",
    "print(unique_lst)"
   ]
  },
  {
   "cell_type": "markdown",
   "metadata": {},
   "source": [
    "#### 37) Write a Python program to convert a list of characters into a string. "
   ]
  },
  {
   "cell_type": "code",
   "execution_count": 5,
   "metadata": {},
   "outputs": [
    {
     "name": "stdout",
     "output_type": "stream",
     "text": [
      "The Output is : kus\n"
     ]
    }
   ],
   "source": [
    "lst1 = ['k','u','s']\n",
    "res1 = \"\"\n",
    "\n",
    "for m in lst1:\n",
    "    res1 += m\n",
    "\n",
    "print(f\"The Output is : {res1}\")"
   ]
  },
  {
   "cell_type": "markdown",
   "metadata": {},
   "source": [
    "#### 38) Write a Python program to select an item randomly from a list. "
   ]
  },
  {
   "cell_type": "code",
   "execution_count": 9,
   "metadata": {},
   "outputs": [],
   "source": [
    "import random"
   ]
  },
  {
   "cell_type": "code",
   "execution_count": 15,
   "metadata": {},
   "outputs": [
    {
     "data": {
      "text/plain": [
       "65"
      ]
     },
     "execution_count": 15,
     "metadata": {},
     "output_type": "execute_result"
    }
   ],
   "source": [
    "lst1 = [15,25,12,45,78,65,12]\n",
    "random.choice(lst1)"
   ]
  },
  {
   "cell_type": "markdown",
   "metadata": {},
   "source": [
    "#### 39) Write a Python program to find the second smallest number in a list. "
   ]
  },
  {
   "cell_type": "code",
   "execution_count": 13,
   "metadata": {},
   "outputs": [],
   "source": [
    "lst1 = [25,12,45,65,25,78,1,25,3]\n",
    "\n",
    "unique_list = []\n",
    "\n",
    "for i in lst1:\n",
    "    if i not in unique_list:\n",
    "        unique_list.append(i)"
   ]
  },
  {
   "cell_type": "code",
   "execution_count": 19,
   "metadata": {},
   "outputs": [
    {
     "name": "stdout",
     "output_type": "stream",
     "text": [
      "The Original List Is:- [1, 3, 12, 25, 45, 65, 78]\n",
      "The Second Smallest number is:- 3\n"
     ]
    }
   ],
   "source": [
    "print(f\"The Original List Is:- {sorted(unique_list)}\")\n",
    "print(f\"The Second Smallest number is:- {sorted(unique_list)[1]}\")"
   ]
  },
  {
   "cell_type": "markdown",
   "metadata": {},
   "source": [
    "#### 40) Write a Python program to get unique values from a list "
   ]
  },
  {
   "cell_type": "code",
   "execution_count": 22,
   "metadata": {},
   "outputs": [
    {
     "name": "stdout",
     "output_type": "stream",
     "text": [
      "The Original List is:- [25, 25, 15, 12, 15, 16, 48, 51, 50, 51]\n",
      "Unique Element List is:- [25, 15, 12, 16, 48, 51, 50]\n"
     ]
    }
   ],
   "source": [
    "list1 = [25,25,15,12,15,16,48,51,50,51]\n",
    "u_lst = []\n",
    "\n",
    "for i in list1:\n",
    "    if i not in u_lst:\n",
    "        u_lst.append(i) \n",
    "\n",
    "print(f\"The Original List is:- {list1}\")\n",
    "print(f\"Unique Element List is:- {u_lst}\")"
   ]
  },
  {
   "cell_type": "markdown",
   "metadata": {},
   "source": [
    "#### 41) Write a Python program to check whether a list contains a sub list "
   ]
  },
  {
   "cell_type": "code",
   "execution_count": 1,
   "metadata": {},
   "outputs": [
    {
     "name": "stdout",
     "output_type": "stream",
     "text": [
      "List Does not contain Sublist\n",
      "List Does not contain Sublist\n",
      "List contains a Sublist\n"
     ]
    }
   ],
   "source": [
    "lst1 = [25,12,36,45,78]\n",
    "lst2 = [45,12,[25,13,25]]\n",
    "\n",
    "for i in lst2:\n",
    "    if (type(i)) == list:\n",
    "        print(\"List contains a Sublist\")\n",
    "    else:\n",
    "        print(\"List Does not contain Sublist\")"
   ]
  },
  {
   "cell_type": "markdown",
   "metadata": {},
   "source": [
    "#### 42) Write a Python program to split a list into different variables. "
   ]
  },
  {
   "cell_type": "code",
   "execution_count": 7,
   "metadata": {},
   "outputs": [
    {
     "name": "stdout",
     "output_type": "stream",
     "text": [
      "[1, 2] [3, 4]\n"
     ]
    }
   ],
   "source": [
    "lst1 = [1,2,3,4]\n",
    "d1 = lst1[0:int(len(lst1)/2)]\n",
    "d2 = lst1[int(len(lst1)/2)::]\n",
    "\n",
    "print(d1,d2)"
   ]
  },
  {
   "cell_type": "markdown",
   "metadata": {},
   "source": [
    "#### 44) Write a Python program to create a tuple with different data types. "
   ]
  },
  {
   "cell_type": "code",
   "execution_count": 1,
   "metadata": {},
   "outputs": [
    {
     "name": "stdout",
     "output_type": "stream",
     "text": [
      "Different Data Type of the tuple is:-('Kushal', 78, 25, 78.35)\n",
      "Type Is:- <class 'tuple'>\n"
     ]
    }
   ],
   "source": [
    "a = (\"Kushal\",78,25,78.35)\n",
    "\n",
    "print(f\"Different Data Type of the tuple is:-{a}\")\n",
    "print(f\"Type Is:- {type(a)}\")"
   ]
  },
  {
   "cell_type": "markdown",
   "metadata": {},
   "source": [
    "#### 45) Write a Python program to unzip a list of tuples into individual lists. "
   ]
  },
  {
   "cell_type": "code",
   "execution_count": 6,
   "metadata": {},
   "outputs": [
    {
     "name": "stdout",
     "output_type": "stream",
     "text": [
      "List 1: [1, 2, 3]\n",
      "List 2: ['a', 'b', 'c']\n"
     ]
    }
   ],
   "source": [
    "# List of tuples\n",
    "tuple_list = [(1, 'a'), (2, 'b'), (3, 'c')]\n",
    "\n",
    "# Unzipping the list of tuples into individual lists\n",
    "list1, list2 = zip(*tuple_list)\n",
    "\n",
    "# Convert the result to lists\n",
    "list1 = list(list1)\n",
    "list2 = list(list2)\n",
    "\n",
    "# Display the individual lists\n",
    "print(\"List 1:\", list1)\n",
    "print(\"List 2:\", list2)\n"
   ]
  },
  {
   "cell_type": "markdown",
   "metadata": {},
   "source": [
    "#### 46) Write a Python program to convert a list of tuples into a dictionary. "
   ]
  },
  {
   "cell_type": "code",
   "execution_count": 26,
   "metadata": {},
   "outputs": [
    {
     "name": "stdout",
     "output_type": "stream",
     "text": [
      "{1: ('a', 'b'), 2: ('b', 'c'), 3: ('c', 'd')}\n"
     ]
    }
   ],
   "source": [
    "a = [(1, 'a','b'), (2, 'b','c'), (3, 'c','d')]\n",
    "\n",
    "dict={} \n",
    " \n",
    "for i in a :\n",
    "    dict[i[0]] = i[1:]\n",
    "print(dict)"
   ]
  },
  {
   "cell_type": "markdown",
   "metadata": {},
   "source": [
    "#### (47)How will you create a dictionary using tuples in python? "
   ]
  },
  {
   "cell_type": "code",
   "execution_count": 36,
   "metadata": {},
   "outputs": [
    {
     "name": "stdout",
     "output_type": "stream",
     "text": [
      "{1, 2, ('a', 'b')}\n"
     ]
    }
   ],
   "source": [
    "dict1 = {1,2,(\"a\",\"b\")}\n",
    "print(dict1)"
   ]
  },
  {
   "cell_type": "markdown",
   "metadata": {},
   "source": [
    "#### 48) Write a Python script to sort (ascending and descending) a dictionary by value. "
   ]
  },
  {
   "cell_type": "code",
   "execution_count": 39,
   "metadata": {},
   "outputs": [
    {
     "name": "stdout",
     "output_type": "stream",
     "text": [
      "Original Dictionary: {'a': [3, 5], 'b': [1, 2], 'c': [2, 8], 'd': [4, 1]}\n",
      "Ascending Sorted Dictionary: {'b': [1, 2], 'c': [2, 8], 'a': [3, 5], 'd': [4, 1]}\n"
     ]
    }
   ],
   "source": [
    "example_dict = {'a': [3, 5], 'b': [1, 2], 'c': [2, 8], 'd': [4, 1]}\n",
    "\n",
    "\n",
    "def sort_by_one(item):\n",
    "    return item[1][0]\n",
    "\n",
    "\n",
    "ascending_sorted_dict = dict(sorted(example_dict.items(), key=sort_by_one))\n",
    "\n",
    "\n",
    "print(\"Original Dictionary:\", example_dict)\n",
    "print(\"Ascending Sorted Dictionary:\", ascending_sorted_dict)\n"
   ]
  },
  {
   "cell_type": "markdown",
   "metadata": {},
   "source": [
    "#### 49) Write a Python script to concatenate following dictionaries to create a new one. "
   ]
  },
  {
   "cell_type": "code",
   "execution_count": 44,
   "metadata": {},
   "outputs": [],
   "source": [
    "dic1 = {'a':1,'b':2}\n",
    "dic2 = {'p':3,'q':4}\n",
    "dic3 = {'x':5,'y':6}\n",
    "\n",
    "dic1.update(dic2)\n",
    "dic1.update(dic3)\n"
   ]
  },
  {
   "cell_type": "markdown",
   "metadata": {},
   "source": [
    "#### 50) Write a Python script to check if a given key already exists in a dictionary. "
   ]
  },
  {
   "cell_type": "code",
   "execution_count": 49,
   "metadata": {},
   "outputs": [],
   "source": [
    "dic5 = {\n",
    "    \"DA\":[1,2,3],\n",
    "    \"WD\":[25,45,6]\n",
    "}\n",
    "list_keys = dic5.keys()"
   ]
  },
  {
   "cell_type": "code",
   "execution_count": 50,
   "metadata": {},
   "outputs": [
    {
     "name": "stdout",
     "output_type": "stream",
     "text": [
      "key exist\n"
     ]
    }
   ],
   "source": [
    "key = input(\"Enter the key name:-\")\n",
    "if key in list_keys:\n",
    "    print(\"key exist\")\n",
    "else:\n",
    "    print(\"Key is not exist\")"
   ]
  },
  {
   "cell_type": "markdown",
   "metadata": {},
   "source": [
    "#### 51) How Do You Traverse Through a Dictionary Object in Python? "
   ]
  },
  {
   "cell_type": "code",
   "execution_count": 53,
   "metadata": {},
   "outputs": [
    {
     "name": "stdout",
     "output_type": "stream",
     "text": [
      "dict_keys(['key1', 'key2', 'key3'])\n",
      "dict_values([[1, 2], [2, 3], [3, 4]])\n",
      "dict_items([('key1', [1, 2]), ('key2', [2, 3]), ('key3', [3, 4])])\n"
     ]
    }
   ],
   "source": [
    "x = {\n",
    "    \"key1\" : [1,2],\n",
    "    \"key2\" : [2,3],\n",
    "    \"key3\" : [3,4]\n",
    "}\n",
    "\n",
    "ky = x.keys()\n",
    "vl = x.values()\n",
    "it = x.items()\n",
    "\n",
    "print(ky)\n",
    "print(vl)\n",
    "print(it)"
   ]
  },
  {
   "cell_type": "markdown",
   "metadata": {},
   "source": [
    "#### 52) How Do You Check the Presence of a Key in A Dictionary? "
   ]
  },
  {
   "cell_type": "code",
   "execution_count": 54,
   "metadata": {},
   "outputs": [
    {
     "name": "stdout",
     "output_type": "stream",
     "text": [
      "key exist\n"
     ]
    }
   ],
   "source": [
    "dic5 = {\n",
    "    \"DA\":[1,2,3],\n",
    "    \"WD\":[25,45,6]\n",
    "}\n",
    "list_keys = dic5.keys()\n",
    "key = input(\"Enter the key name:-\")\n",
    "if key in list_keys:\n",
    "    print(\"key exist\")\n",
    "else:\n",
    "    print(\"Key is not exist\")"
   ]
  },
  {
   "cell_type": "markdown",
   "metadata": {},
   "source": [
    "#### 53) Write a Python script to print a dictionary where the keys are numbers between 1 and 15. "
   ]
  },
  {
   "cell_type": "code",
   "execution_count": 68,
   "metadata": {},
   "outputs": [
    {
     "name": "stdout",
     "output_type": "stream",
     "text": [
      "{1: 'a', 2: 'a', 3: 'a', 4: 'a', 5: 'a', 6: 'a', 7: 'a', 8: 'a', 9: 'a', 10: 'a', 11: 'a', 12: 'a', 13: 'a', 14: 'a', 15: 'a'}\n"
     ]
    }
   ],
   "source": [
    "dict15 = {}\n",
    "\n",
    "for a in range(1,16):\n",
    "    dict15[a] = \"a\"\n",
    "print(dict15)"
   ]
  },
  {
   "cell_type": "markdown",
   "metadata": {},
   "source": [
    "#### 54) Write a Python program to check multiple keys exists in a dictionary "
   ]
  },
  {
   "cell_type": "code",
   "execution_count": 78,
   "metadata": {},
   "outputs": [],
   "source": [
    "dc = {\n",
    "    \"DA\" : [1],\n",
    "    \"WD\" : [2],\n",
    "    \"ML\" : [3]\n",
    "}\n",
    "dc_ls = set(dc.keys())"
   ]
  },
  {
   "cell_type": "code",
   "execution_count": 85,
   "metadata": {},
   "outputs": [
    {
     "name": "stdout",
     "output_type": "stream",
     "text": [
      "keys are not in dictionary\n"
     ]
    }
   ],
   "source": [
    "ch = set([\"DA\",\"WD\",\"LD\"])\n",
    "\n",
    "if ch.issubset(dc_ls) == True:\n",
    "    print(\"Keys are in dictionary\")\n",
    "else:\n",
    "    print(\"keys are not in dictionary\")"
   ]
  },
  {
   "cell_type": "markdown",
   "metadata": {},
   "source": [
    "#### 55) Write a Python script to merge two Python dictionaries "
   ]
  },
  {
   "cell_type": "code",
   "execution_count": 90,
   "metadata": {},
   "outputs": [
    {
     "name": "stdout",
     "output_type": "stream",
     "text": [
      "Merged Dictionary {'key_1_1': [1], 'key_2_2': [2, 2], 'key_2_1': [1, 2]}\n"
     ]
    }
   ],
   "source": [
    "dic1 = {\"key_1_1\":[1],\"key_2_2\":[2]}\n",
    "dic2 ={\"key_2_1\":[1,2],\"key_2_2\":[2,2]}\n",
    "\n",
    "dic1.update(dic2)\n",
    "print(\"Merged Dictionary\",dic1)"
   ]
  },
  {
   "cell_type": "markdown",
   "metadata": {},
   "source": [
    "#### 56) Write a Python program to map two lists into a dictionary "
   ]
  },
  {
   "cell_type": "code",
   "execution_count": 4,
   "metadata": {},
   "outputs": [
    {
     "name": "stdout",
     "output_type": "stream",
     "text": [
      "{'a': 400, 'b': 500, 'c': 600}\n"
     ]
    }
   ],
   "source": [
    "a = [\"a\",\"b\",\"c\"]\n",
    "b = [400,500,600]\n",
    "\n",
    "dict1 ={}\n",
    "\n",
    "for i in range(len(a)):\n",
    "    dict1[a[i]] = b[i]\n",
    "\n",
    "print(dict1)"
   ]
  },
  {
   "cell_type": "markdown",
   "metadata": {},
   "source": [
    "#### 57) Write a Python program to find the highest 3 values in a dictionary "
   ]
  },
  {
   "cell_type": "code",
   "execution_count": 34,
   "metadata": {},
   "outputs": [
    {
     "name": "stdout",
     "output_type": "stream",
     "text": [
      "Highest 3 value in the list is:- [8, 5, 4]\n"
     ]
    }
   ],
   "source": [
    "example_dict = {'a': [3, 5], 'b': [1, 2], 'c': [2, 8], 'd': [4, 1]}\n",
    "m = example_dict.values()\n",
    "\n",
    "merged_list = sum(m, [])\n",
    "\n",
    "b = list(set(merged_list))\n",
    "b.sort(reverse=True)\n",
    "\n",
    "print(f\"Highest 3 value in the list is:- {b[0:3]}\")\n"
   ]
  },
  {
   "cell_type": "markdown",
   "metadata": {},
   "source": [
    "#### 58) Write a Python program to combine values in python list of dictionaries. \n",
    "Sample data: [{'item': 'item1', 'amount': 400}, {'item': 'item2', 'amount': \n",
    "300}, o {'item': 'item1', 'amount': 750}] "
   ]
  },
  {
   "cell_type": "code",
   "execution_count": 45,
   "metadata": {},
   "outputs": [
    {
     "name": "stdout",
     "output_type": "stream",
     "text": [
      "{'item1': 1150, 'item2': 300}\n"
     ]
    }
   ],
   "source": [
    "dc1 = [\n",
    "    {'item': 'item1', 'amount': 400},\n",
    "    {'item': 'item2', 'amount': 300},\n",
    "    {'item': 'item1', 'amount': 750}]\n",
    "f_dc ={}\n",
    "\n",
    "for i in dc1:\n",
    "    items = i[\"item\"]\n",
    "    amount = i[\"amount\"]\n",
    "    if items in f_dc:\n",
    "        f_dc[items] += amount\n",
    "    else:\n",
    "        f_dc[items] = amount\n",
    "print(f_dc)\n"
   ]
  },
  {
   "cell_type": "markdown",
   "metadata": {},
   "source": [
    "#### 59) Write a Python program to create a dictionary from a string. \n",
    "Note: Track the count of the letters from the string. "
   ]
  },
  {
   "cell_type": "code",
   "execution_count": 2,
   "metadata": {},
   "outputs": [
    {
     "data": {
      "text/plain": [
       "{'a': 10, 'b': 10, 'c': 10, 'd': 10}"
      ]
     },
     "execution_count": 2,
     "metadata": {},
     "output_type": "execute_result"
    }
   ],
   "source": [
    "a = \"abcd\"\n",
    "\n",
    "dict10 = {}\n",
    "\n",
    "for i in a:\n",
    "    dict10[i] = 10\n",
    "\n",
    "dict10"
   ]
  },
  {
   "cell_type": "markdown",
   "metadata": {},
   "source": [
    "#### 60) Sample string:'w3resource' Expected output: \n",
    "{'3': 1,’s’: 1, 'r': 2, 'u': 1, 'w': 1, 'c': 1, 'e': 2, 'o': 1} "
   ]
  },
  {
   "cell_type": "code",
   "execution_count": 7,
   "metadata": {},
   "outputs": [],
   "source": [
    "import random"
   ]
  },
  {
   "cell_type": "code",
   "execution_count": 15,
   "metadata": {},
   "outputs": [
    {
     "name": "stdout",
     "output_type": "stream",
     "text": [
      "{'w': 2, '3': 1, 'r': 1, 'e': 2, 's': 1, 'o': 1, 'u': 1, 'c': 1}\n"
     ]
    }
   ],
   "source": [
    "a = \"w3resource\"\n",
    "dict10 ={}\n",
    "\n",
    "for i in a:\n",
    "    b = random.randint(1,2)\n",
    "    dict10[i] = b\n",
    "\n",
    "print(dict10)"
   ]
  },
  {
   "cell_type": "markdown",
   "metadata": {},
   "source": [
    "#### 61) Write a Python function to calculate the factorial of a number (a nonnegative integer) "
   ]
  },
  {
   "cell_type": "code",
   "execution_count": 6,
   "metadata": {},
   "outputs": [],
   "source": [
    "def factorial(x):\n",
    "    if x<0:\n",
    "        print(\"Enter positive number\")\n",
    "    else:\n",
    "        fact = 1\n",
    "        for i in range(1,x+1):\n",
    "            fact = fact*i\n",
    "        print(f\"Factorial Number Is:- {fact}\")"
   ]
  },
  {
   "cell_type": "code",
   "execution_count": 11,
   "metadata": {},
   "outputs": [
    {
     "name": "stdout",
     "output_type": "stream",
     "text": [
      "Factorial Number Is:- 120\n"
     ]
    }
   ],
   "source": [
    "factorial(5)\n"
   ]
  },
  {
   "cell_type": "markdown",
   "metadata": {},
   "source": [
    "#### 62) Write a Python function to check whether a number is in a given range "
   ]
  },
  {
   "cell_type": "code",
   "execution_count": 23,
   "metadata": {},
   "outputs": [],
   "source": [
    "def range_check(r11,r22,num1):\n",
    "    range_lst = []\n",
    "    print(f\"The Range is in between {r11} to {r22}\")\n",
    "\n",
    "    for i in range(r11,r22+1):\n",
    "        range_lst.append(i)\n",
    "    if num1 in range_lst:\n",
    "        print(f\"The Entered number {num1} is in given range\")\n",
    "    else:\n",
    "        print(f\"The entered number {num1} is not in given range\")\n",
    "    "
   ]
  },
  {
   "cell_type": "code",
   "execution_count": 25,
   "metadata": {},
   "outputs": [
    {
     "name": "stdout",
     "output_type": "stream",
     "text": [
      "The Range is in between 1 to 15\n",
      "The entered number 16 is not in given range\n"
     ]
    }
   ],
   "source": [
    "range_check(1,15,16)"
   ]
  },
  {
   "cell_type": "markdown",
   "metadata": {},
   "source": [
    "#### 63) Write a Python function to check whether a number is perfect or not."
   ]
  },
  {
   "cell_type": "code",
   "execution_count": null,
   "metadata": {},
   "outputs": [],
   "source": []
  },
  {
   "cell_type": "markdown",
   "metadata": {},
   "source": [
    "#### 64) Write a Python function that checks whether a passed string is palindrome or not "
   ]
  },
  {
   "cell_type": "code",
   "execution_count": 44,
   "metadata": {},
   "outputs": [],
   "source": [
    "def palindrome(s):\n",
    "    if s[0:len(s)] == s[::-1]:\n",
    "        print(f\"The entered string ({s}) is palindrome\")\n",
    "    else:\n",
    "        print(f\"The Entered string ({s}) is not palindrome\")"
   ]
  },
  {
   "cell_type": "code",
   "execution_count": 45,
   "metadata": {},
   "outputs": [
    {
     "name": "stdout",
     "output_type": "stream",
     "text": [
      "The entered string (abcba) is palindrome\n"
     ]
    }
   ],
   "source": [
    "a = input(\"Enter The string:-\")\n",
    "palindrome(a)"
   ]
  },
  {
   "cell_type": "markdown",
   "metadata": {},
   "source": [
    "#### 66) How can you pick a random item from a list or tuple? "
   ]
  },
  {
   "cell_type": "code",
   "execution_count": 46,
   "metadata": {},
   "outputs": [],
   "source": [
    "import random"
   ]
  },
  {
   "cell_type": "code",
   "execution_count": 78,
   "metadata": {},
   "outputs": [
    {
     "name": "stdout",
     "output_type": "stream",
     "text": [
      "The Random item from list is:- 85\n",
      "The Random item from tuple is:- 465\n"
     ]
    }
   ],
   "source": [
    "lst10 = [10,45,85,23,15]\n",
    "tup_1 =(15,233,465,846,548)\n",
    "\n",
    "a = random.choice(lst10)\n",
    "b = random.choice(tup_1)\n",
    "\n",
    "print(f\"The Random item from list is:- {a}\")\n",
    "print(f\"The Random item from tuple is:- {b}\")"
   ]
  },
  {
   "cell_type": "markdown",
   "metadata": {},
   "source": [
    "#### 67) How can you pick a random item from a range? "
   ]
  },
  {
   "cell_type": "code",
   "execution_count": 83,
   "metadata": {},
   "outputs": [
    {
     "name": "stdout",
     "output_type": "stream",
     "text": [
      "2\n"
     ]
    }
   ],
   "source": [
    "random_item = random.randrange(1, 10)\n",
    "print(random_item)\n"
   ]
  },
  {
   "cell_type": "markdown",
   "metadata": {},
   "source": [
    "#### 68) How can you get a random number in python? "
   ]
  },
  {
   "cell_type": "code",
   "execution_count": 86,
   "metadata": {},
   "outputs": [
    {
     "name": "stdout",
     "output_type": "stream",
     "text": [
      "The Random Number is :- 0.7562725387002124\n"
     ]
    }
   ],
   "source": [
    "a = random.random()\n",
    "print(f\"The Random Number is :- {a}\")"
   ]
  },
  {
   "cell_type": "markdown",
   "metadata": {},
   "source": [
    "#### 69) How will you set the starting value in generating random numbers?"
   ]
  },
  {
   "cell_type": "code",
   "execution_count": 118,
   "metadata": {},
   "outputs": [
    {
     "name": "stdout",
     "output_type": "stream",
     "text": [
      "0.376962302390386\n"
     ]
    }
   ],
   "source": [
    "import random\n",
    "\n",
    "random.seed(25)\n",
    "print(random.random())\n",
    "\n"
   ]
  },
  {
   "cell_type": "markdown",
   "metadata": {},
   "source": [
    "#### 70) How will you randomize the items of a list in place? "
   ]
  },
  {
   "cell_type": "code",
   "execution_count": 123,
   "metadata": {},
   "outputs": [
    {
     "name": "stdout",
     "output_type": "stream",
     "text": [
      "The Shuffle list is :- [15, 78, 45, 23, 95]\n"
     ]
    }
   ],
   "source": [
    "lst12 = [15,23,45,78,95]\n",
    "\n",
    "random.shuffle(lst12)\n",
    "\n",
    "print(f\"The Shuffle list is :- {lst12}\")"
   ]
  },
  {
   "cell_type": "markdown",
   "metadata": {},
   "source": [
    "#### 72) Write a Python program to read an entire text file. "
   ]
  },
  {
   "cell_type": "code",
   "execution_count": 125,
   "metadata": {},
   "outputs": [
    {
     "data": {
      "text/plain": [
       "'Hi This is the First File.'"
      ]
     },
     "execution_count": 125,
     "metadata": {},
     "output_type": "execute_result"
    }
   ],
   "source": [
    "a = open(r\"C:\\Users\\kusha\\OneDrive\\Desktop\\Hotel.txt\",\"r\")\n",
    "a.read()"
   ]
  },
  {
   "cell_type": "markdown",
   "metadata": {},
   "source": [
    "#### 73) Write a Python program to append text to a file and display the text. "
   ]
  },
  {
   "cell_type": "code",
   "execution_count": 132,
   "metadata": {},
   "outputs": [
    {
     "name": "stdout",
     "output_type": "stream",
     "text": [
      "Hi This is the First File.\n",
      "This Is the appended text\n",
      " This Is the appended text\n",
      "This Is the appended text\n"
     ]
    }
   ],
   "source": [
    "a = open(r\"C:\\Users\\kusha\\OneDrive\\Desktop\\Hotel.txt\",\"a\")\n",
    "a.write(\"\\nThis Is the appended text\")\n",
    "a.close()\n",
    "\n",
    "a =open(r\"C:\\Users\\kusha\\OneDrive\\Desktop\\Hotel.txt\",\"r\")\n",
    "b = a.read()\n",
    "print(b)"
   ]
  },
  {
   "cell_type": "markdown",
   "metadata": {},
   "source": [
    "#### 74) Write a Python program to read first n lines of a file. "
   ]
  },
  {
   "cell_type": "code",
   "execution_count": 135,
   "metadata": {},
   "outputs": [
    {
     "data": {
      "text/plain": [
       "'Hi This is the First File.\\n'"
      ]
     },
     "execution_count": 135,
     "metadata": {},
     "output_type": "execute_result"
    }
   ],
   "source": [
    "a =open(r\"C:\\Users\\kusha\\OneDrive\\Desktop\\Hotel.txt\",\"r\")\n",
    "a.readline()"
   ]
  },
  {
   "cell_type": "markdown",
   "metadata": {},
   "source": [
    "#### 75) Write a Python program to read last n lines of a file. "
   ]
  },
  {
   "cell_type": "code",
   "execution_count": 1,
   "metadata": {},
   "outputs": [
    {
     "data": {
      "text/plain": [
       "['Hi This is the First File.\\n',\n",
       " 'This Is the appended text\\n',\n",
       " 'This Is the appended text\\n',\n",
       " 'This Is the appended text']"
      ]
     },
     "execution_count": 1,
     "metadata": {},
     "output_type": "execute_result"
    }
   ],
   "source": [
    "a =open(r\"C:\\Users\\kusha\\OneDrive\\Desktop\\Hotel.txt\",\"r\")\n",
    "a.readlines()"
   ]
  },
  {
   "cell_type": "markdown",
   "metadata": {},
   "source": [
    "#### 76) Write a Python program to read a file line by line and store it into a list "
   ]
  },
  {
   "cell_type": "code",
   "execution_count": 3,
   "metadata": {},
   "outputs": [
    {
     "name": "stdout",
     "output_type": "stream",
     "text": [
      "Hi This is the First File.\n",
      "\n",
      "This Is the appended text\n",
      "\n",
      "This Is the appended text\n",
      "\n",
      "This Is the appended text\n"
     ]
    }
   ],
   "source": [
    "a =open(r\"C:\\Users\\kusha\\OneDrive\\Desktop\\Hotel.txt\",\"r\")\n",
    "b = a.readlines()\n",
    "for i in b:\n",
    "    print(i)"
   ]
  },
  {
   "cell_type": "markdown",
   "metadata": {},
   "source": [
    "#### 77) Write a Python program to read a file line by line store it into a variable."
   ]
  },
  {
   "cell_type": "code",
   "execution_count": 4,
   "metadata": {},
   "outputs": [
    {
     "name": "stdout",
     "output_type": "stream",
     "text": [
      "Hi This is the First File.\n",
      "\n",
      "This Is the appended text\n",
      "\n",
      "This Is the appended text\n",
      "\n",
      "This Is the appended text\n"
     ]
    }
   ],
   "source": [
    "a =open(r\"C:\\Users\\kusha\\OneDrive\\Desktop\\Hotel.txt\",\"r\")\n",
    "b = a.readlines()\n",
    "for i in b:\n",
    "    print(i)"
   ]
  },
  {
   "cell_type": "markdown",
   "metadata": {},
   "source": [
    "#### 78) Write a python program to find the longest words. "
   ]
  },
  {
   "cell_type": "code",
   "execution_count": 5,
   "metadata": {},
   "outputs": [
    {
     "data": {
      "text/plain": [
       "'appended'"
      ]
     },
     "execution_count": 5,
     "metadata": {},
     "output_type": "execute_result"
    }
   ],
   "source": [
    "a =open(r\"C:\\Users\\kusha\\OneDrive\\Desktop\\Hotel.txt\",\"r\")\n",
    "\n",
    "b = a.read()\n",
    "\n",
    "y = b.split()\n",
    "\n",
    "max_word=max(y,key=len)\n",
    "max_word"
   ]
  },
  {
   "cell_type": "markdown",
   "metadata": {},
   "source": [
    "#### 79) Write a Python program to count the number of lines in a text file."
   ]
  },
  {
   "cell_type": "code",
   "execution_count": 8,
   "metadata": {},
   "outputs": [
    {
     "name": "stdout",
     "output_type": "stream",
     "text": [
      "4\n"
     ]
    }
   ],
   "source": [
    "a =open(r\"C:\\Users\\kusha\\OneDrive\\Desktop\\Hotel.txt\",\"r\")\n",
    "\n",
    "b = len(a.readlines())\n",
    "\n",
    "print(b)"
   ]
  },
  {
   "cell_type": "markdown",
   "metadata": {},
   "source": [
    "#### 80) Write a Python program to count the frequency of words in a file. "
   ]
  },
  {
   "cell_type": "code",
   "execution_count": 11,
   "metadata": {},
   "outputs": [
    {
     "name": "stdout",
     "output_type": "stream",
     "text": [
      "{'Hi': 1, 'This': 4, 'is': 1, 'the': 4, 'First': 1, 'File.': 1, 'Is': 3, 'appended': 3, 'text': 3}\n"
     ]
    }
   ],
   "source": [
    "a =open(r\"C:\\Users\\kusha\\OneDrive\\Desktop\\Hotel.txt\",\"r\")\n",
    "b = a.read()\n",
    "c = b.split()\n",
    "\n",
    "char_f = {}\n",
    "\n",
    "for char in c:\n",
    "    if char in char_f:\n",
    "        char_f[char] += 1\n",
    "    else:\n",
    "        char_f[char] = 1\n",
    "\n",
    "print(char_f)"
   ]
  },
  {
   "cell_type": "markdown",
   "metadata": {},
   "source": [
    "#### 81) Write a Python program to write a list to a file. "
   ]
  },
  {
   "cell_type": "code",
   "execution_count": 14,
   "metadata": {},
   "outputs": [
    {
     "name": "stdout",
     "output_type": "stream",
     "text": [
      "abcdp\n"
     ]
    }
   ],
   "source": [
    "lst = ['a','b','c','dp']\n",
    "ah=open(r\"C:\\Users\\kusha\\OneDrive\\Desktop\\Hotel.txt\",\"w\")\n",
    "for i in lst:\n",
    "    ah.write(i)\n",
    "ah.close()\n",
    "ai= open(r\"C:\\Users\\kusha\\OneDrive\\Desktop\\Hotel.txt\",\"r\")\n",
    "print(ai.read())\n"
   ]
  },
  {
   "cell_type": "markdown",
   "metadata": {},
   "source": [
    "#### 82) Write a Python program to copy the contents of a file to another file. "
   ]
  },
  {
   "cell_type": "code",
   "execution_count": 17,
   "metadata": {},
   "outputs": [],
   "source": [
    "#(82)Write a Python program to copy the contents of a file to another file\n",
    "aj= open(r\"C:\\Users\\kusha\\OneDrive\\Desktop\\Hotel1.txt\",\"a\")\n",
    "ak = open(r\"C:\\Users\\kusha\\OneDrive\\Desktop\\Hotel.txt\",\"r\")\n",
    "x = aj.write(ak.read())\n"
   ]
  },
  {
   "cell_type": "code",
   "execution_count": null,
   "metadata": {},
   "outputs": [],
   "source": [
    "aj= open(r\"C:\\Users\\kusha\\OneDrive\\Desktop\\Hotel1.txt\",\"r\")\n",
    "print(aj.readlines())"
   ]
  },
  {
   "cell_type": "markdown",
   "metadata": {},
   "source": [
    "#### 90) Write python program that user to enter only odd numbers, else will raise an exception. "
   ]
  },
  {
   "cell_type": "code",
   "execution_count": 22,
   "metadata": {},
   "outputs": [
    {
     "name": "stdout",
     "output_type": "stream",
     "text": [
      "<class 'ValueError'>\n"
     ]
    }
   ],
   "source": [
    "try:\n",
    "    dp = int(input(\"Enter odd number: \"))\n",
    "    if dp % 2 == 0:\n",
    "        raise (ValueError(\"Error: The number is not odd number!\"))\n",
    "    print(f\"odd number: {dp}\")\n",
    "except ValueError:\n",
    "    print(ValueError)"
   ]
  }
 ],
 "metadata": {
  "kernelspec": {
   "display_name": "Python (project)",
   "language": "python",
   "name": "project"
  },
  "language_info": {
   "codemirror_mode": {
    "name": "ipython",
    "version": 3
   },
   "file_extension": ".py",
   "mimetype": "text/x-python",
   "name": "python",
   "nbconvert_exporter": "python",
   "pygments_lexer": "ipython3",
   "version": "3.9.13"
  }
 },
 "nbformat": 4,
 "nbformat_minor": 2
}
